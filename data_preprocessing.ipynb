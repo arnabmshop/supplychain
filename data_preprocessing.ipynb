{
  "cells": [
    {
      "cell_type": "markdown",
      "metadata": {
        "id": "HWuNiP14K2f5"
      },
      "source": [
        "## Project Description\n",
        "The project provides a real-world dataset focusing on supply chain analytics. As the main data analyst for Just In Time, you will help solve key shipment and inventory management challenges, analyze supply chain inefficiencies, and create insightful dashboards to inform business stakeholders about potential problems and propose structural business improvements.\n",
        "\n",
        "## Objective\n",
        "In this project, my primary focus is on addressing key challenges related to shipment and inventory management within the supply chain. To achieve this goal efficiently, the project has been divided into few objectives:"
      ]
    },
    {
      "cell_type": "markdown",
      "metadata": {
        "id": "1TeVZPm2bM4W"
      },
      "source": [
        "# Data Preparation"
      ]
    },
    {
      "cell_type": "code",
      "execution_count": 1,
      "metadata": {
        "id": "8P2SVZSEZRjr"
      },
      "outputs": [],
      "source": [
        "# import the libraries\n",
        "import pandas as pd\n",
        "import numpy as np"
      ]
    },
    {
      "cell_type": "code",
      "source": [
        "df_inventory = pd.read_csv('inventory.csv')\n",
        "df_fulfillment = pd.read_csv('fulfillment.csv')"
      ],
      "metadata": {
        "id": "zLl991DPV-fI"
      },
      "execution_count": 3,
      "outputs": []
    },
    {
      "cell_type": "code",
      "execution_count": 5,
      "metadata": {
        "id": "DVKl60M2Zxi7"
      },
      "outputs": [],
      "source": [
        "# import datasets\n",
        "df_orders = pd.read_csv('orders_and_shipments.csv', encoding='ISO-8859-1')"
      ]
    },
    {
      "cell_type": "code",
      "source": [
        "df_orders.head()"
      ],
      "metadata": {
        "colab": {
          "base_uri": "https://localhost:8080/",
          "height": 377
        },
        "id": "007KSxs7DCTv",
        "outputId": "f7848756-43a4-46f6-9ba6-63db0e32bac1"
      },
      "execution_count": 6,
      "outputs": [
        {
          "output_type": "execute_result",
          "data": {
            "text/plain": [
              "    Order ID    Order Item ID    Order YearMonth    Order Year   \\\n",
              "0        3535             8793             201502          2015   \n",
              "1        4133            10320             201503          2015   \n",
              "2        7396            18517             201504          2015   \n",
              "3       11026            27608             201506          2015   \n",
              "4       11026            27609             201506          2015   \n",
              "\n",
              "    Order Month    Order Day  Order Time  Order Quantity Product Department  \\\n",
              "0              2           21      14:07               1           Fan Shop   \n",
              "1              3            2      07:37               1           Fan Shop   \n",
              "2              4           18      22:47               1           Fan Shop   \n",
              "3              6           10      22:32               1           Fan Shop   \n",
              "4              6           10      22:32               1           Fan Shop   \n",
              "\n",
              "  Product Category  ... Customer Country  Warehouse Country Shipment Year  \\\n",
              "0          Fishing  ...           Mexico        Puerto Rico          2015   \n",
              "1          Fishing  ...           Brazil        Puerto Rico          2015   \n",
              "2          Fishing  ...           Mexico        Puerto Rico          2015   \n",
              "3          Fishing  ...          Denmark        Puerto Rico          2015   \n",
              "4          Fishing  ...          Denmark        Puerto Rico          2015   \n",
              "\n",
              "  Shipment Month Shipment Day   Shipment Mode   Shipment Days - Scheduled   \\\n",
              "0              2           27  Standard Class                            4   \n",
              "1              3            6  Standard Class                            4   \n",
              "2              4           20  Standard Class                            4   \n",
              "3              6           12  Standard Class                            4   \n",
              "4              6           12  Standard Class                            4   \n",
              "\n",
              "    Gross Sales    Discount %   Profit   \n",
              "0            400          0.25      200  \n",
              "1            400          0.09      200  \n",
              "2            400          0.06      200  \n",
              "3            400          0.15      200  \n",
              "4            400          0.13      200  \n",
              "\n",
              "[5 rows x 24 columns]"
            ],
            "text/html": [
              "\n",
              "  <div id=\"df-087a2086-493d-4a23-8c64-a713423a44b6\" class=\"colab-df-container\">\n",
              "    <div>\n",
              "<style scoped>\n",
              "    .dataframe tbody tr th:only-of-type {\n",
              "        vertical-align: middle;\n",
              "    }\n",
              "\n",
              "    .dataframe tbody tr th {\n",
              "        vertical-align: top;\n",
              "    }\n",
              "\n",
              "    .dataframe thead th {\n",
              "        text-align: right;\n",
              "    }\n",
              "</style>\n",
              "<table border=\"1\" class=\"dataframe\">\n",
              "  <thead>\n",
              "    <tr style=\"text-align: right;\">\n",
              "      <th></th>\n",
              "      <th>Order ID</th>\n",
              "      <th>Order Item ID</th>\n",
              "      <th>Order YearMonth</th>\n",
              "      <th>Order Year</th>\n",
              "      <th>Order Month</th>\n",
              "      <th>Order Day</th>\n",
              "      <th>Order Time</th>\n",
              "      <th>Order Quantity</th>\n",
              "      <th>Product Department</th>\n",
              "      <th>Product Category</th>\n",
              "      <th>...</th>\n",
              "      <th>Customer Country</th>\n",
              "      <th>Warehouse Country</th>\n",
              "      <th>Shipment Year</th>\n",
              "      <th>Shipment Month</th>\n",
              "      <th>Shipment Day</th>\n",
              "      <th>Shipment Mode</th>\n",
              "      <th>Shipment Days - Scheduled</th>\n",
              "      <th>Gross Sales</th>\n",
              "      <th>Discount %</th>\n",
              "      <th>Profit</th>\n",
              "    </tr>\n",
              "  </thead>\n",
              "  <tbody>\n",
              "    <tr>\n",
              "      <th>0</th>\n",
              "      <td>3535</td>\n",
              "      <td>8793</td>\n",
              "      <td>201502</td>\n",
              "      <td>2015</td>\n",
              "      <td>2</td>\n",
              "      <td>21</td>\n",
              "      <td>14:07</td>\n",
              "      <td>1</td>\n",
              "      <td>Fan Shop</td>\n",
              "      <td>Fishing</td>\n",
              "      <td>...</td>\n",
              "      <td>Mexico</td>\n",
              "      <td>Puerto Rico</td>\n",
              "      <td>2015</td>\n",
              "      <td>2</td>\n",
              "      <td>27</td>\n",
              "      <td>Standard Class</td>\n",
              "      <td>4</td>\n",
              "      <td>400</td>\n",
              "      <td>0.25</td>\n",
              "      <td>200</td>\n",
              "    </tr>\n",
              "    <tr>\n",
              "      <th>1</th>\n",
              "      <td>4133</td>\n",
              "      <td>10320</td>\n",
              "      <td>201503</td>\n",
              "      <td>2015</td>\n",
              "      <td>3</td>\n",
              "      <td>2</td>\n",
              "      <td>07:37</td>\n",
              "      <td>1</td>\n",
              "      <td>Fan Shop</td>\n",
              "      <td>Fishing</td>\n",
              "      <td>...</td>\n",
              "      <td>Brazil</td>\n",
              "      <td>Puerto Rico</td>\n",
              "      <td>2015</td>\n",
              "      <td>3</td>\n",
              "      <td>6</td>\n",
              "      <td>Standard Class</td>\n",
              "      <td>4</td>\n",
              "      <td>400</td>\n",
              "      <td>0.09</td>\n",
              "      <td>200</td>\n",
              "    </tr>\n",
              "    <tr>\n",
              "      <th>2</th>\n",
              "      <td>7396</td>\n",
              "      <td>18517</td>\n",
              "      <td>201504</td>\n",
              "      <td>2015</td>\n",
              "      <td>4</td>\n",
              "      <td>18</td>\n",
              "      <td>22:47</td>\n",
              "      <td>1</td>\n",
              "      <td>Fan Shop</td>\n",
              "      <td>Fishing</td>\n",
              "      <td>...</td>\n",
              "      <td>Mexico</td>\n",
              "      <td>Puerto Rico</td>\n",
              "      <td>2015</td>\n",
              "      <td>4</td>\n",
              "      <td>20</td>\n",
              "      <td>Standard Class</td>\n",
              "      <td>4</td>\n",
              "      <td>400</td>\n",
              "      <td>0.06</td>\n",
              "      <td>200</td>\n",
              "    </tr>\n",
              "    <tr>\n",
              "      <th>3</th>\n",
              "      <td>11026</td>\n",
              "      <td>27608</td>\n",
              "      <td>201506</td>\n",
              "      <td>2015</td>\n",
              "      <td>6</td>\n",
              "      <td>10</td>\n",
              "      <td>22:32</td>\n",
              "      <td>1</td>\n",
              "      <td>Fan Shop</td>\n",
              "      <td>Fishing</td>\n",
              "      <td>...</td>\n",
              "      <td>Denmark</td>\n",
              "      <td>Puerto Rico</td>\n",
              "      <td>2015</td>\n",
              "      <td>6</td>\n",
              "      <td>12</td>\n",
              "      <td>Standard Class</td>\n",
              "      <td>4</td>\n",
              "      <td>400</td>\n",
              "      <td>0.15</td>\n",
              "      <td>200</td>\n",
              "    </tr>\n",
              "    <tr>\n",
              "      <th>4</th>\n",
              "      <td>11026</td>\n",
              "      <td>27609</td>\n",
              "      <td>201506</td>\n",
              "      <td>2015</td>\n",
              "      <td>6</td>\n",
              "      <td>10</td>\n",
              "      <td>22:32</td>\n",
              "      <td>1</td>\n",
              "      <td>Fan Shop</td>\n",
              "      <td>Fishing</td>\n",
              "      <td>...</td>\n",
              "      <td>Denmark</td>\n",
              "      <td>Puerto Rico</td>\n",
              "      <td>2015</td>\n",
              "      <td>6</td>\n",
              "      <td>12</td>\n",
              "      <td>Standard Class</td>\n",
              "      <td>4</td>\n",
              "      <td>400</td>\n",
              "      <td>0.13</td>\n",
              "      <td>200</td>\n",
              "    </tr>\n",
              "  </tbody>\n",
              "</table>\n",
              "<p>5 rows × 24 columns</p>\n",
              "</div>\n",
              "    <div class=\"colab-df-buttons\">\n",
              "\n",
              "  <div class=\"colab-df-container\">\n",
              "    <button class=\"colab-df-convert\" onclick=\"convertToInteractive('df-087a2086-493d-4a23-8c64-a713423a44b6')\"\n",
              "            title=\"Convert this dataframe to an interactive table.\"\n",
              "            style=\"display:none;\">\n",
              "\n",
              "  <svg xmlns=\"http://www.w3.org/2000/svg\" height=\"24px\" viewBox=\"0 -960 960 960\">\n",
              "    <path d=\"M120-120v-720h720v720H120Zm60-500h600v-160H180v160Zm220 220h160v-160H400v160Zm0 220h160v-160H400v160ZM180-400h160v-160H180v160Zm440 0h160v-160H620v160ZM180-180h160v-160H180v160Zm440 0h160v-160H620v160Z\"/>\n",
              "  </svg>\n",
              "    </button>\n",
              "\n",
              "  <style>\n",
              "    .colab-df-container {\n",
              "      display:flex;\n",
              "      gap: 12px;\n",
              "    }\n",
              "\n",
              "    .colab-df-convert {\n",
              "      background-color: #E8F0FE;\n",
              "      border: none;\n",
              "      border-radius: 50%;\n",
              "      cursor: pointer;\n",
              "      display: none;\n",
              "      fill: #1967D2;\n",
              "      height: 32px;\n",
              "      padding: 0 0 0 0;\n",
              "      width: 32px;\n",
              "    }\n",
              "\n",
              "    .colab-df-convert:hover {\n",
              "      background-color: #E2EBFA;\n",
              "      box-shadow: 0px 1px 2px rgba(60, 64, 67, 0.3), 0px 1px 3px 1px rgba(60, 64, 67, 0.15);\n",
              "      fill: #174EA6;\n",
              "    }\n",
              "\n",
              "    .colab-df-buttons div {\n",
              "      margin-bottom: 4px;\n",
              "    }\n",
              "\n",
              "    [theme=dark] .colab-df-convert {\n",
              "      background-color: #3B4455;\n",
              "      fill: #D2E3FC;\n",
              "    }\n",
              "\n",
              "    [theme=dark] .colab-df-convert:hover {\n",
              "      background-color: #434B5C;\n",
              "      box-shadow: 0px 1px 3px 1px rgba(0, 0, 0, 0.15);\n",
              "      filter: drop-shadow(0px 1px 2px rgba(0, 0, 0, 0.3));\n",
              "      fill: #FFFFFF;\n",
              "    }\n",
              "  </style>\n",
              "\n",
              "    <script>\n",
              "      const buttonEl =\n",
              "        document.querySelector('#df-087a2086-493d-4a23-8c64-a713423a44b6 button.colab-df-convert');\n",
              "      buttonEl.style.display =\n",
              "        google.colab.kernel.accessAllowed ? 'block' : 'none';\n",
              "\n",
              "      async function convertToInteractive(key) {\n",
              "        const element = document.querySelector('#df-087a2086-493d-4a23-8c64-a713423a44b6');\n",
              "        const dataTable =\n",
              "          await google.colab.kernel.invokeFunction('convertToInteractive',\n",
              "                                                    [key], {});\n",
              "        if (!dataTable) return;\n",
              "\n",
              "        const docLinkHtml = 'Like what you see? Visit the ' +\n",
              "          '<a target=\"_blank\" href=https://colab.research.google.com/notebooks/data_table.ipynb>data table notebook</a>'\n",
              "          + ' to learn more about interactive tables.';\n",
              "        element.innerHTML = '';\n",
              "        dataTable['output_type'] = 'display_data';\n",
              "        await google.colab.output.renderOutput(dataTable, element);\n",
              "        const docLink = document.createElement('div');\n",
              "        docLink.innerHTML = docLinkHtml;\n",
              "        element.appendChild(docLink);\n",
              "      }\n",
              "    </script>\n",
              "  </div>\n",
              "\n",
              "\n",
              "<div id=\"df-bf4354f7-db9f-47aa-be64-dcb62facd2bb\">\n",
              "  <button class=\"colab-df-quickchart\" onclick=\"quickchart('df-bf4354f7-db9f-47aa-be64-dcb62facd2bb')\"\n",
              "            title=\"Suggest charts\"\n",
              "            style=\"display:none;\">\n",
              "\n",
              "<svg xmlns=\"http://www.w3.org/2000/svg\" height=\"24px\"viewBox=\"0 0 24 24\"\n",
              "     width=\"24px\">\n",
              "    <g>\n",
              "        <path d=\"M19 3H5c-1.1 0-2 .9-2 2v14c0 1.1.9 2 2 2h14c1.1 0 2-.9 2-2V5c0-1.1-.9-2-2-2zM9 17H7v-7h2v7zm4 0h-2V7h2v10zm4 0h-2v-4h2v4z\"/>\n",
              "    </g>\n",
              "</svg>\n",
              "  </button>\n",
              "\n",
              "<style>\n",
              "  .colab-df-quickchart {\n",
              "      --bg-color: #E8F0FE;\n",
              "      --fill-color: #1967D2;\n",
              "      --hover-bg-color: #E2EBFA;\n",
              "      --hover-fill-color: #174EA6;\n",
              "      --disabled-fill-color: #AAA;\n",
              "      --disabled-bg-color: #DDD;\n",
              "  }\n",
              "\n",
              "  [theme=dark] .colab-df-quickchart {\n",
              "      --bg-color: #3B4455;\n",
              "      --fill-color: #D2E3FC;\n",
              "      --hover-bg-color: #434B5C;\n",
              "      --hover-fill-color: #FFFFFF;\n",
              "      --disabled-bg-color: #3B4455;\n",
              "      --disabled-fill-color: #666;\n",
              "  }\n",
              "\n",
              "  .colab-df-quickchart {\n",
              "    background-color: var(--bg-color);\n",
              "    border: none;\n",
              "    border-radius: 50%;\n",
              "    cursor: pointer;\n",
              "    display: none;\n",
              "    fill: var(--fill-color);\n",
              "    height: 32px;\n",
              "    padding: 0;\n",
              "    width: 32px;\n",
              "  }\n",
              "\n",
              "  .colab-df-quickchart:hover {\n",
              "    background-color: var(--hover-bg-color);\n",
              "    box-shadow: 0 1px 2px rgba(60, 64, 67, 0.3), 0 1px 3px 1px rgba(60, 64, 67, 0.15);\n",
              "    fill: var(--button-hover-fill-color);\n",
              "  }\n",
              "\n",
              "  .colab-df-quickchart-complete:disabled,\n",
              "  .colab-df-quickchart-complete:disabled:hover {\n",
              "    background-color: var(--disabled-bg-color);\n",
              "    fill: var(--disabled-fill-color);\n",
              "    box-shadow: none;\n",
              "  }\n",
              "\n",
              "  .colab-df-spinner {\n",
              "    border: 2px solid var(--fill-color);\n",
              "    border-color: transparent;\n",
              "    border-bottom-color: var(--fill-color);\n",
              "    animation:\n",
              "      spin 1s steps(1) infinite;\n",
              "  }\n",
              "\n",
              "  @keyframes spin {\n",
              "    0% {\n",
              "      border-color: transparent;\n",
              "      border-bottom-color: var(--fill-color);\n",
              "      border-left-color: var(--fill-color);\n",
              "    }\n",
              "    20% {\n",
              "      border-color: transparent;\n",
              "      border-left-color: var(--fill-color);\n",
              "      border-top-color: var(--fill-color);\n",
              "    }\n",
              "    30% {\n",
              "      border-color: transparent;\n",
              "      border-left-color: var(--fill-color);\n",
              "      border-top-color: var(--fill-color);\n",
              "      border-right-color: var(--fill-color);\n",
              "    }\n",
              "    40% {\n",
              "      border-color: transparent;\n",
              "      border-right-color: var(--fill-color);\n",
              "      border-top-color: var(--fill-color);\n",
              "    }\n",
              "    60% {\n",
              "      border-color: transparent;\n",
              "      border-right-color: var(--fill-color);\n",
              "    }\n",
              "    80% {\n",
              "      border-color: transparent;\n",
              "      border-right-color: var(--fill-color);\n",
              "      border-bottom-color: var(--fill-color);\n",
              "    }\n",
              "    90% {\n",
              "      border-color: transparent;\n",
              "      border-bottom-color: var(--fill-color);\n",
              "    }\n",
              "  }\n",
              "</style>\n",
              "\n",
              "  <script>\n",
              "    async function quickchart(key) {\n",
              "      const quickchartButtonEl =\n",
              "        document.querySelector('#' + key + ' button');\n",
              "      quickchartButtonEl.disabled = true;  // To prevent multiple clicks.\n",
              "      quickchartButtonEl.classList.add('colab-df-spinner');\n",
              "      try {\n",
              "        const charts = await google.colab.kernel.invokeFunction(\n",
              "            'suggestCharts', [key], {});\n",
              "      } catch (error) {\n",
              "        console.error('Error during call to suggestCharts:', error);\n",
              "      }\n",
              "      quickchartButtonEl.classList.remove('colab-df-spinner');\n",
              "      quickchartButtonEl.classList.add('colab-df-quickchart-complete');\n",
              "    }\n",
              "    (() => {\n",
              "      let quickchartButtonEl =\n",
              "        document.querySelector('#df-bf4354f7-db9f-47aa-be64-dcb62facd2bb button');\n",
              "      quickchartButtonEl.style.display =\n",
              "        google.colab.kernel.accessAllowed ? 'block' : 'none';\n",
              "    })();\n",
              "  </script>\n",
              "</div>\n",
              "\n",
              "    </div>\n",
              "  </div>\n"
            ],
            "application/vnd.google.colaboratory.intrinsic+json": {
              "type": "dataframe",
              "variable_name": "df_orders"
            }
          },
          "metadata": {},
          "execution_count": 6
        }
      ]
    },
    {
      "cell_type": "code",
      "source": [
        "df_inventory.head()"
      ],
      "metadata": {
        "colab": {
          "base_uri": "https://localhost:8080/",
          "height": 206
        },
        "id": "I5jZ20_fC27K",
        "outputId": "cae006ce-1d6f-47af-ee16-a0dde9632f7b"
      },
      "execution_count": 7,
      "outputs": [
        {
          "output_type": "execute_result",
          "data": {
            "text/plain": [
              "                                    Product Name   Year Month   \\\n",
              "0               Perfect Fitness Perfect Rip Deck        201712   \n",
              "1           Nike Men's Dri-FIT Victory Golf Polo        201712   \n",
              "2               O'Brien Men's Neoprene Life Vest        201712   \n",
              "3              Nike Men's Free 5.0+ Running Shoe        201712   \n",
              "4  Under Armour Girls' Toddler Spine Surge Runni        201712   \n",
              "\n",
              "    Warehouse Inventory   Inventory Cost Per Unit  \n",
              "0                      0                  0.69517  \n",
              "1                      2                  1.29291  \n",
              "2                      0                  0.56531  \n",
              "3                      1                  1.26321  \n",
              "4                      0                  1.47648  "
            ],
            "text/html": [
              "\n",
              "  <div id=\"df-45c4092f-e41e-4de2-a7bc-427d0f979e3c\" class=\"colab-df-container\">\n",
              "    <div>\n",
              "<style scoped>\n",
              "    .dataframe tbody tr th:only-of-type {\n",
              "        vertical-align: middle;\n",
              "    }\n",
              "\n",
              "    .dataframe tbody tr th {\n",
              "        vertical-align: top;\n",
              "    }\n",
              "\n",
              "    .dataframe thead th {\n",
              "        text-align: right;\n",
              "    }\n",
              "</style>\n",
              "<table border=\"1\" class=\"dataframe\">\n",
              "  <thead>\n",
              "    <tr style=\"text-align: right;\">\n",
              "      <th></th>\n",
              "      <th>Product Name</th>\n",
              "      <th>Year Month</th>\n",
              "      <th>Warehouse Inventory</th>\n",
              "      <th>Inventory Cost Per Unit</th>\n",
              "    </tr>\n",
              "  </thead>\n",
              "  <tbody>\n",
              "    <tr>\n",
              "      <th>0</th>\n",
              "      <td>Perfect Fitness Perfect Rip Deck</td>\n",
              "      <td>201712</td>\n",
              "      <td>0</td>\n",
              "      <td>0.69517</td>\n",
              "    </tr>\n",
              "    <tr>\n",
              "      <th>1</th>\n",
              "      <td>Nike Men's Dri-FIT Victory Golf Polo</td>\n",
              "      <td>201712</td>\n",
              "      <td>2</td>\n",
              "      <td>1.29291</td>\n",
              "    </tr>\n",
              "    <tr>\n",
              "      <th>2</th>\n",
              "      <td>O'Brien Men's Neoprene Life Vest</td>\n",
              "      <td>201712</td>\n",
              "      <td>0</td>\n",
              "      <td>0.56531</td>\n",
              "    </tr>\n",
              "    <tr>\n",
              "      <th>3</th>\n",
              "      <td>Nike Men's Free 5.0+ Running Shoe</td>\n",
              "      <td>201712</td>\n",
              "      <td>1</td>\n",
              "      <td>1.26321</td>\n",
              "    </tr>\n",
              "    <tr>\n",
              "      <th>4</th>\n",
              "      <td>Under Armour Girls' Toddler Spine Surge Runni</td>\n",
              "      <td>201712</td>\n",
              "      <td>0</td>\n",
              "      <td>1.47648</td>\n",
              "    </tr>\n",
              "  </tbody>\n",
              "</table>\n",
              "</div>\n",
              "    <div class=\"colab-df-buttons\">\n",
              "\n",
              "  <div class=\"colab-df-container\">\n",
              "    <button class=\"colab-df-convert\" onclick=\"convertToInteractive('df-45c4092f-e41e-4de2-a7bc-427d0f979e3c')\"\n",
              "            title=\"Convert this dataframe to an interactive table.\"\n",
              "            style=\"display:none;\">\n",
              "\n",
              "  <svg xmlns=\"http://www.w3.org/2000/svg\" height=\"24px\" viewBox=\"0 -960 960 960\">\n",
              "    <path d=\"M120-120v-720h720v720H120Zm60-500h600v-160H180v160Zm220 220h160v-160H400v160Zm0 220h160v-160H400v160ZM180-400h160v-160H180v160Zm440 0h160v-160H620v160ZM180-180h160v-160H180v160Zm440 0h160v-160H620v160Z\"/>\n",
              "  </svg>\n",
              "    </button>\n",
              "\n",
              "  <style>\n",
              "    .colab-df-container {\n",
              "      display:flex;\n",
              "      gap: 12px;\n",
              "    }\n",
              "\n",
              "    .colab-df-convert {\n",
              "      background-color: #E8F0FE;\n",
              "      border: none;\n",
              "      border-radius: 50%;\n",
              "      cursor: pointer;\n",
              "      display: none;\n",
              "      fill: #1967D2;\n",
              "      height: 32px;\n",
              "      padding: 0 0 0 0;\n",
              "      width: 32px;\n",
              "    }\n",
              "\n",
              "    .colab-df-convert:hover {\n",
              "      background-color: #E2EBFA;\n",
              "      box-shadow: 0px 1px 2px rgba(60, 64, 67, 0.3), 0px 1px 3px 1px rgba(60, 64, 67, 0.15);\n",
              "      fill: #174EA6;\n",
              "    }\n",
              "\n",
              "    .colab-df-buttons div {\n",
              "      margin-bottom: 4px;\n",
              "    }\n",
              "\n",
              "    [theme=dark] .colab-df-convert {\n",
              "      background-color: #3B4455;\n",
              "      fill: #D2E3FC;\n",
              "    }\n",
              "\n",
              "    [theme=dark] .colab-df-convert:hover {\n",
              "      background-color: #434B5C;\n",
              "      box-shadow: 0px 1px 3px 1px rgba(0, 0, 0, 0.15);\n",
              "      filter: drop-shadow(0px 1px 2px rgba(0, 0, 0, 0.3));\n",
              "      fill: #FFFFFF;\n",
              "    }\n",
              "  </style>\n",
              "\n",
              "    <script>\n",
              "      const buttonEl =\n",
              "        document.querySelector('#df-45c4092f-e41e-4de2-a7bc-427d0f979e3c button.colab-df-convert');\n",
              "      buttonEl.style.display =\n",
              "        google.colab.kernel.accessAllowed ? 'block' : 'none';\n",
              "\n",
              "      async function convertToInteractive(key) {\n",
              "        const element = document.querySelector('#df-45c4092f-e41e-4de2-a7bc-427d0f979e3c');\n",
              "        const dataTable =\n",
              "          await google.colab.kernel.invokeFunction('convertToInteractive',\n",
              "                                                    [key], {});\n",
              "        if (!dataTable) return;\n",
              "\n",
              "        const docLinkHtml = 'Like what you see? Visit the ' +\n",
              "          '<a target=\"_blank\" href=https://colab.research.google.com/notebooks/data_table.ipynb>data table notebook</a>'\n",
              "          + ' to learn more about interactive tables.';\n",
              "        element.innerHTML = '';\n",
              "        dataTable['output_type'] = 'display_data';\n",
              "        await google.colab.output.renderOutput(dataTable, element);\n",
              "        const docLink = document.createElement('div');\n",
              "        docLink.innerHTML = docLinkHtml;\n",
              "        element.appendChild(docLink);\n",
              "      }\n",
              "    </script>\n",
              "  </div>\n",
              "\n",
              "\n",
              "<div id=\"df-f81b3b8a-20a2-4b25-a843-4eca8908706e\">\n",
              "  <button class=\"colab-df-quickchart\" onclick=\"quickchart('df-f81b3b8a-20a2-4b25-a843-4eca8908706e')\"\n",
              "            title=\"Suggest charts\"\n",
              "            style=\"display:none;\">\n",
              "\n",
              "<svg xmlns=\"http://www.w3.org/2000/svg\" height=\"24px\"viewBox=\"0 0 24 24\"\n",
              "     width=\"24px\">\n",
              "    <g>\n",
              "        <path d=\"M19 3H5c-1.1 0-2 .9-2 2v14c0 1.1.9 2 2 2h14c1.1 0 2-.9 2-2V5c0-1.1-.9-2-2-2zM9 17H7v-7h2v7zm4 0h-2V7h2v10zm4 0h-2v-4h2v4z\"/>\n",
              "    </g>\n",
              "</svg>\n",
              "  </button>\n",
              "\n",
              "<style>\n",
              "  .colab-df-quickchart {\n",
              "      --bg-color: #E8F0FE;\n",
              "      --fill-color: #1967D2;\n",
              "      --hover-bg-color: #E2EBFA;\n",
              "      --hover-fill-color: #174EA6;\n",
              "      --disabled-fill-color: #AAA;\n",
              "      --disabled-bg-color: #DDD;\n",
              "  }\n",
              "\n",
              "  [theme=dark] .colab-df-quickchart {\n",
              "      --bg-color: #3B4455;\n",
              "      --fill-color: #D2E3FC;\n",
              "      --hover-bg-color: #434B5C;\n",
              "      --hover-fill-color: #FFFFFF;\n",
              "      --disabled-bg-color: #3B4455;\n",
              "      --disabled-fill-color: #666;\n",
              "  }\n",
              "\n",
              "  .colab-df-quickchart {\n",
              "    background-color: var(--bg-color);\n",
              "    border: none;\n",
              "    border-radius: 50%;\n",
              "    cursor: pointer;\n",
              "    display: none;\n",
              "    fill: var(--fill-color);\n",
              "    height: 32px;\n",
              "    padding: 0;\n",
              "    width: 32px;\n",
              "  }\n",
              "\n",
              "  .colab-df-quickchart:hover {\n",
              "    background-color: var(--hover-bg-color);\n",
              "    box-shadow: 0 1px 2px rgba(60, 64, 67, 0.3), 0 1px 3px 1px rgba(60, 64, 67, 0.15);\n",
              "    fill: var(--button-hover-fill-color);\n",
              "  }\n",
              "\n",
              "  .colab-df-quickchart-complete:disabled,\n",
              "  .colab-df-quickchart-complete:disabled:hover {\n",
              "    background-color: var(--disabled-bg-color);\n",
              "    fill: var(--disabled-fill-color);\n",
              "    box-shadow: none;\n",
              "  }\n",
              "\n",
              "  .colab-df-spinner {\n",
              "    border: 2px solid var(--fill-color);\n",
              "    border-color: transparent;\n",
              "    border-bottom-color: var(--fill-color);\n",
              "    animation:\n",
              "      spin 1s steps(1) infinite;\n",
              "  }\n",
              "\n",
              "  @keyframes spin {\n",
              "    0% {\n",
              "      border-color: transparent;\n",
              "      border-bottom-color: var(--fill-color);\n",
              "      border-left-color: var(--fill-color);\n",
              "    }\n",
              "    20% {\n",
              "      border-color: transparent;\n",
              "      border-left-color: var(--fill-color);\n",
              "      border-top-color: var(--fill-color);\n",
              "    }\n",
              "    30% {\n",
              "      border-color: transparent;\n",
              "      border-left-color: var(--fill-color);\n",
              "      border-top-color: var(--fill-color);\n",
              "      border-right-color: var(--fill-color);\n",
              "    }\n",
              "    40% {\n",
              "      border-color: transparent;\n",
              "      border-right-color: var(--fill-color);\n",
              "      border-top-color: var(--fill-color);\n",
              "    }\n",
              "    60% {\n",
              "      border-color: transparent;\n",
              "      border-right-color: var(--fill-color);\n",
              "    }\n",
              "    80% {\n",
              "      border-color: transparent;\n",
              "      border-right-color: var(--fill-color);\n",
              "      border-bottom-color: var(--fill-color);\n",
              "    }\n",
              "    90% {\n",
              "      border-color: transparent;\n",
              "      border-bottom-color: var(--fill-color);\n",
              "    }\n",
              "  }\n",
              "</style>\n",
              "\n",
              "  <script>\n",
              "    async function quickchart(key) {\n",
              "      const quickchartButtonEl =\n",
              "        document.querySelector('#' + key + ' button');\n",
              "      quickchartButtonEl.disabled = true;  // To prevent multiple clicks.\n",
              "      quickchartButtonEl.classList.add('colab-df-spinner');\n",
              "      try {\n",
              "        const charts = await google.colab.kernel.invokeFunction(\n",
              "            'suggestCharts', [key], {});\n",
              "      } catch (error) {\n",
              "        console.error('Error during call to suggestCharts:', error);\n",
              "      }\n",
              "      quickchartButtonEl.classList.remove('colab-df-spinner');\n",
              "      quickchartButtonEl.classList.add('colab-df-quickchart-complete');\n",
              "    }\n",
              "    (() => {\n",
              "      let quickchartButtonEl =\n",
              "        document.querySelector('#df-f81b3b8a-20a2-4b25-a843-4eca8908706e button');\n",
              "      quickchartButtonEl.style.display =\n",
              "        google.colab.kernel.accessAllowed ? 'block' : 'none';\n",
              "    })();\n",
              "  </script>\n",
              "</div>\n",
              "\n",
              "    </div>\n",
              "  </div>\n"
            ],
            "application/vnd.google.colaboratory.intrinsic+json": {
              "type": "dataframe",
              "variable_name": "df_inventory",
              "summary": "{\n  \"name\": \"df_inventory\",\n  \"rows\": 4200,\n  \"fields\": [\n    {\n      \"column\": \"Product Name\",\n      \"properties\": {\n        \"dtype\": \"category\",\n        \"num_unique_values\": 118,\n        \"samples\": [\n          \"Dell Laptop\",\n          \"Cleveland Golf Women's 588 RTX CB Satin Chrom\",\n          \"Under Armour Girls' Toddler Spine Surge Runni\"\n        ],\n        \"semantic_type\": \"\",\n        \"description\": \"\"\n      }\n    },\n    {\n      \"column\": \" Year Month \",\n      \"properties\": {\n        \"dtype\": \"number\",\n        \"std\": 81,\n        \"min\": 201501,\n        \"max\": 201712,\n        \"num_unique_values\": 36,\n        \"samples\": [\n          201501,\n          201611,\n          201510\n        ],\n        \"semantic_type\": \"\",\n        \"description\": \"\"\n      }\n    },\n    {\n      \"column\": \" Warehouse Inventory \",\n      \"properties\": {\n        \"dtype\": \"number\",\n        \"std\": 71,\n        \"min\": 0,\n        \"max\": 931,\n        \"num_unique_values\": 233,\n        \"samples\": [\n          175,\n          633,\n          442\n        ],\n        \"semantic_type\": \"\",\n        \"description\": \"\"\n      }\n    },\n    {\n      \"column\": \"Inventory Cost Per Unit\",\n      \"properties\": {\n        \"dtype\": \"number\",\n        \"std\": 0.6521830223028837,\n        \"min\": 0.10236,\n        \"max\": 2.34503,\n        \"num_unique_values\": 4155,\n        \"samples\": [\n          1.57635,\n          1.18099,\n          1.67156\n        ],\n        \"semantic_type\": \"\",\n        \"description\": \"\"\n      }\n    }\n  ]\n}"
            }
          },
          "metadata": {},
          "execution_count": 7
        }
      ]
    },
    {
      "cell_type": "code",
      "source": [
        "df_fulfillment.head()"
      ],
      "metadata": {
        "colab": {
          "base_uri": "https://localhost:8080/",
          "height": 206
        },
        "id": "g9kzILWyC6Z7",
        "outputId": "7aa3b644-c3b5-4e7b-d240-8d8a902d1bc4"
      },
      "execution_count": 8,
      "outputs": [
        {
          "output_type": "execute_result",
          "data": {
            "text/plain": [
              "                                    Product Name  \\\n",
              "0               Perfect Fitness Perfect Rip Deck   \n",
              "1           Nike Men's Dri-FIT Victory Golf Polo   \n",
              "2               O'Brien Men's Neoprene Life Vest   \n",
              "3              Nike Men's Free 5.0+ Running Shoe   \n",
              "4  Under Armour Girls' Toddler Spine Surge Runni   \n",
              "\n",
              "    Warehouse Order Fulfillment (days)   \n",
              "0                                   8.3  \n",
              "1                                   6.6  \n",
              "2                                   5.5  \n",
              "3                                   9.4  \n",
              "4                                   6.3  "
            ],
            "text/html": [
              "\n",
              "  <div id=\"df-8d86957c-3f04-4f81-aee2-29828f6eca92\" class=\"colab-df-container\">\n",
              "    <div>\n",
              "<style scoped>\n",
              "    .dataframe tbody tr th:only-of-type {\n",
              "        vertical-align: middle;\n",
              "    }\n",
              "\n",
              "    .dataframe tbody tr th {\n",
              "        vertical-align: top;\n",
              "    }\n",
              "\n",
              "    .dataframe thead th {\n",
              "        text-align: right;\n",
              "    }\n",
              "</style>\n",
              "<table border=\"1\" class=\"dataframe\">\n",
              "  <thead>\n",
              "    <tr style=\"text-align: right;\">\n",
              "      <th></th>\n",
              "      <th>Product Name</th>\n",
              "      <th>Warehouse Order Fulfillment (days)</th>\n",
              "    </tr>\n",
              "  </thead>\n",
              "  <tbody>\n",
              "    <tr>\n",
              "      <th>0</th>\n",
              "      <td>Perfect Fitness Perfect Rip Deck</td>\n",
              "      <td>8.3</td>\n",
              "    </tr>\n",
              "    <tr>\n",
              "      <th>1</th>\n",
              "      <td>Nike Men's Dri-FIT Victory Golf Polo</td>\n",
              "      <td>6.6</td>\n",
              "    </tr>\n",
              "    <tr>\n",
              "      <th>2</th>\n",
              "      <td>O'Brien Men's Neoprene Life Vest</td>\n",
              "      <td>5.5</td>\n",
              "    </tr>\n",
              "    <tr>\n",
              "      <th>3</th>\n",
              "      <td>Nike Men's Free 5.0+ Running Shoe</td>\n",
              "      <td>9.4</td>\n",
              "    </tr>\n",
              "    <tr>\n",
              "      <th>4</th>\n",
              "      <td>Under Armour Girls' Toddler Spine Surge Runni</td>\n",
              "      <td>6.3</td>\n",
              "    </tr>\n",
              "  </tbody>\n",
              "</table>\n",
              "</div>\n",
              "    <div class=\"colab-df-buttons\">\n",
              "\n",
              "  <div class=\"colab-df-container\">\n",
              "    <button class=\"colab-df-convert\" onclick=\"convertToInteractive('df-8d86957c-3f04-4f81-aee2-29828f6eca92')\"\n",
              "            title=\"Convert this dataframe to an interactive table.\"\n",
              "            style=\"display:none;\">\n",
              "\n",
              "  <svg xmlns=\"http://www.w3.org/2000/svg\" height=\"24px\" viewBox=\"0 -960 960 960\">\n",
              "    <path d=\"M120-120v-720h720v720H120Zm60-500h600v-160H180v160Zm220 220h160v-160H400v160Zm0 220h160v-160H400v160ZM180-400h160v-160H180v160Zm440 0h160v-160H620v160ZM180-180h160v-160H180v160Zm440 0h160v-160H620v160Z\"/>\n",
              "  </svg>\n",
              "    </button>\n",
              "\n",
              "  <style>\n",
              "    .colab-df-container {\n",
              "      display:flex;\n",
              "      gap: 12px;\n",
              "    }\n",
              "\n",
              "    .colab-df-convert {\n",
              "      background-color: #E8F0FE;\n",
              "      border: none;\n",
              "      border-radius: 50%;\n",
              "      cursor: pointer;\n",
              "      display: none;\n",
              "      fill: #1967D2;\n",
              "      height: 32px;\n",
              "      padding: 0 0 0 0;\n",
              "      width: 32px;\n",
              "    }\n",
              "\n",
              "    .colab-df-convert:hover {\n",
              "      background-color: #E2EBFA;\n",
              "      box-shadow: 0px 1px 2px rgba(60, 64, 67, 0.3), 0px 1px 3px 1px rgba(60, 64, 67, 0.15);\n",
              "      fill: #174EA6;\n",
              "    }\n",
              "\n",
              "    .colab-df-buttons div {\n",
              "      margin-bottom: 4px;\n",
              "    }\n",
              "\n",
              "    [theme=dark] .colab-df-convert {\n",
              "      background-color: #3B4455;\n",
              "      fill: #D2E3FC;\n",
              "    }\n",
              "\n",
              "    [theme=dark] .colab-df-convert:hover {\n",
              "      background-color: #434B5C;\n",
              "      box-shadow: 0px 1px 3px 1px rgba(0, 0, 0, 0.15);\n",
              "      filter: drop-shadow(0px 1px 2px rgba(0, 0, 0, 0.3));\n",
              "      fill: #FFFFFF;\n",
              "    }\n",
              "  </style>\n",
              "\n",
              "    <script>\n",
              "      const buttonEl =\n",
              "        document.querySelector('#df-8d86957c-3f04-4f81-aee2-29828f6eca92 button.colab-df-convert');\n",
              "      buttonEl.style.display =\n",
              "        google.colab.kernel.accessAllowed ? 'block' : 'none';\n",
              "\n",
              "      async function convertToInteractive(key) {\n",
              "        const element = document.querySelector('#df-8d86957c-3f04-4f81-aee2-29828f6eca92');\n",
              "        const dataTable =\n",
              "          await google.colab.kernel.invokeFunction('convertToInteractive',\n",
              "                                                    [key], {});\n",
              "        if (!dataTable) return;\n",
              "\n",
              "        const docLinkHtml = 'Like what you see? Visit the ' +\n",
              "          '<a target=\"_blank\" href=https://colab.research.google.com/notebooks/data_table.ipynb>data table notebook</a>'\n",
              "          + ' to learn more about interactive tables.';\n",
              "        element.innerHTML = '';\n",
              "        dataTable['output_type'] = 'display_data';\n",
              "        await google.colab.output.renderOutput(dataTable, element);\n",
              "        const docLink = document.createElement('div');\n",
              "        docLink.innerHTML = docLinkHtml;\n",
              "        element.appendChild(docLink);\n",
              "      }\n",
              "    </script>\n",
              "  </div>\n",
              "\n",
              "\n",
              "<div id=\"df-4e534b54-d666-442e-8568-a57786a9a403\">\n",
              "  <button class=\"colab-df-quickchart\" onclick=\"quickchart('df-4e534b54-d666-442e-8568-a57786a9a403')\"\n",
              "            title=\"Suggest charts\"\n",
              "            style=\"display:none;\">\n",
              "\n",
              "<svg xmlns=\"http://www.w3.org/2000/svg\" height=\"24px\"viewBox=\"0 0 24 24\"\n",
              "     width=\"24px\">\n",
              "    <g>\n",
              "        <path d=\"M19 3H5c-1.1 0-2 .9-2 2v14c0 1.1.9 2 2 2h14c1.1 0 2-.9 2-2V5c0-1.1-.9-2-2-2zM9 17H7v-7h2v7zm4 0h-2V7h2v10zm4 0h-2v-4h2v4z\"/>\n",
              "    </g>\n",
              "</svg>\n",
              "  </button>\n",
              "\n",
              "<style>\n",
              "  .colab-df-quickchart {\n",
              "      --bg-color: #E8F0FE;\n",
              "      --fill-color: #1967D2;\n",
              "      --hover-bg-color: #E2EBFA;\n",
              "      --hover-fill-color: #174EA6;\n",
              "      --disabled-fill-color: #AAA;\n",
              "      --disabled-bg-color: #DDD;\n",
              "  }\n",
              "\n",
              "  [theme=dark] .colab-df-quickchart {\n",
              "      --bg-color: #3B4455;\n",
              "      --fill-color: #D2E3FC;\n",
              "      --hover-bg-color: #434B5C;\n",
              "      --hover-fill-color: #FFFFFF;\n",
              "      --disabled-bg-color: #3B4455;\n",
              "      --disabled-fill-color: #666;\n",
              "  }\n",
              "\n",
              "  .colab-df-quickchart {\n",
              "    background-color: var(--bg-color);\n",
              "    border: none;\n",
              "    border-radius: 50%;\n",
              "    cursor: pointer;\n",
              "    display: none;\n",
              "    fill: var(--fill-color);\n",
              "    height: 32px;\n",
              "    padding: 0;\n",
              "    width: 32px;\n",
              "  }\n",
              "\n",
              "  .colab-df-quickchart:hover {\n",
              "    background-color: var(--hover-bg-color);\n",
              "    box-shadow: 0 1px 2px rgba(60, 64, 67, 0.3), 0 1px 3px 1px rgba(60, 64, 67, 0.15);\n",
              "    fill: var(--button-hover-fill-color);\n",
              "  }\n",
              "\n",
              "  .colab-df-quickchart-complete:disabled,\n",
              "  .colab-df-quickchart-complete:disabled:hover {\n",
              "    background-color: var(--disabled-bg-color);\n",
              "    fill: var(--disabled-fill-color);\n",
              "    box-shadow: none;\n",
              "  }\n",
              "\n",
              "  .colab-df-spinner {\n",
              "    border: 2px solid var(--fill-color);\n",
              "    border-color: transparent;\n",
              "    border-bottom-color: var(--fill-color);\n",
              "    animation:\n",
              "      spin 1s steps(1) infinite;\n",
              "  }\n",
              "\n",
              "  @keyframes spin {\n",
              "    0% {\n",
              "      border-color: transparent;\n",
              "      border-bottom-color: var(--fill-color);\n",
              "      border-left-color: var(--fill-color);\n",
              "    }\n",
              "    20% {\n",
              "      border-color: transparent;\n",
              "      border-left-color: var(--fill-color);\n",
              "      border-top-color: var(--fill-color);\n",
              "    }\n",
              "    30% {\n",
              "      border-color: transparent;\n",
              "      border-left-color: var(--fill-color);\n",
              "      border-top-color: var(--fill-color);\n",
              "      border-right-color: var(--fill-color);\n",
              "    }\n",
              "    40% {\n",
              "      border-color: transparent;\n",
              "      border-right-color: var(--fill-color);\n",
              "      border-top-color: var(--fill-color);\n",
              "    }\n",
              "    60% {\n",
              "      border-color: transparent;\n",
              "      border-right-color: var(--fill-color);\n",
              "    }\n",
              "    80% {\n",
              "      border-color: transparent;\n",
              "      border-right-color: var(--fill-color);\n",
              "      border-bottom-color: var(--fill-color);\n",
              "    }\n",
              "    90% {\n",
              "      border-color: transparent;\n",
              "      border-bottom-color: var(--fill-color);\n",
              "    }\n",
              "  }\n",
              "</style>\n",
              "\n",
              "  <script>\n",
              "    async function quickchart(key) {\n",
              "      const quickchartButtonEl =\n",
              "        document.querySelector('#' + key + ' button');\n",
              "      quickchartButtonEl.disabled = true;  // To prevent multiple clicks.\n",
              "      quickchartButtonEl.classList.add('colab-df-spinner');\n",
              "      try {\n",
              "        const charts = await google.colab.kernel.invokeFunction(\n",
              "            'suggestCharts', [key], {});\n",
              "      } catch (error) {\n",
              "        console.error('Error during call to suggestCharts:', error);\n",
              "      }\n",
              "      quickchartButtonEl.classList.remove('colab-df-spinner');\n",
              "      quickchartButtonEl.classList.add('colab-df-quickchart-complete');\n",
              "    }\n",
              "    (() => {\n",
              "      let quickchartButtonEl =\n",
              "        document.querySelector('#df-4e534b54-d666-442e-8568-a57786a9a403 button');\n",
              "      quickchartButtonEl.style.display =\n",
              "        google.colab.kernel.accessAllowed ? 'block' : 'none';\n",
              "    })();\n",
              "  </script>\n",
              "</div>\n",
              "\n",
              "    </div>\n",
              "  </div>\n"
            ],
            "application/vnd.google.colaboratory.intrinsic+json": {
              "type": "dataframe",
              "variable_name": "df_fulfillment",
              "summary": "{\n  \"name\": \"df_fulfillment\",\n  \"rows\": 118,\n  \"fields\": [\n    {\n      \"column\": \"Product Name\",\n      \"properties\": {\n        \"dtype\": \"string\",\n        \"num_unique_values\": 118,\n        \"samples\": [\n          \"Dell Laptop\",\n          \"Cleveland Golf Women's 588 RTX CB Satin Chrom\",\n          \"Under Armour Girls' Toddler Spine Surge Runni\"\n        ],\n        \"semantic_type\": \"\",\n        \"description\": \"\"\n      }\n    },\n    {\n      \"column\": \" Warehouse Order Fulfillment (days) \",\n      \"properties\": {\n        \"dtype\": \"number\",\n        \"std\": 2.4142815936632944,\n        \"min\": 1.0,\n        \"max\": 9.9,\n        \"num_unique_values\": 60,\n        \"samples\": [\n          8.3,\n          7.0,\n          3.9\n        ],\n        \"semantic_type\": \"\",\n        \"description\": \"\"\n      }\n    }\n  ]\n}"
            }
          },
          "metadata": {},
          "execution_count": 8
        }
      ]
    },
    {
      "cell_type": "markdown",
      "source": [
        "The dataset provides three data tables including order_and_shipment, inventory and fulfillment. After examining the data fields, I noticed that the dataset generally represents the following key information\n",
        "\n",
        "* Customer: General information about customers including identifiers and addresses\n",
        "\n",
        "* Order: Information about the order including date of order, product and quantity ordered, order value\n",
        "\n",
        "* Shipment: Shipping information including shipping date, shipping mode\n",
        "\n",
        "* Product: Specific information about the ordered item including product name, product category, product department\n",
        "\n",
        "* Warehouse Inventory: Information on inventory management for each product name including monthly inventory, warehouse location, storage costs, order fulfillment"
      ],
      "metadata": {
        "id": "IkGbz8942Ibr"
      }
    },
    {
      "cell_type": "markdown",
      "metadata": {
        "id": "e9aP1k8FbQYh"
      },
      "source": [
        "# Data Cleaning"
      ]
    },
    {
      "cell_type": "markdown",
      "metadata": {
        "id": "l-JSmTVlbZqz"
      },
      "source": [
        "## Handling Missing Value"
      ]
    },
    {
      "cell_type": "code",
      "execution_count": 9,
      "metadata": {
        "colab": {
          "base_uri": "https://localhost:8080/"
        },
        "id": "ACBZbcGUbR_S",
        "outputId": "d5f1ae77-47b7-446a-8fa3-342d0cf9584c"
      },
      "outputs": [
        {
          "output_type": "execute_result",
          "data": {
            "text/plain": [
              " Order ID                      0\n",
              " Order Item ID                 0\n",
              " Order YearMonth               0\n",
              " Order Year                    0\n",
              " Order Month                   0\n",
              " Order Day                     0\n",
              "Order Time                     0\n",
              "Order Quantity                 0\n",
              "Product Department             0\n",
              "Product Category               0\n",
              "Product Name                   0\n",
              " Customer ID                   0\n",
              "Customer Market                0\n",
              "Customer Region                0\n",
              "Customer Country               0\n",
              "Warehouse Country              0\n",
              "Shipment Year                  0\n",
              "Shipment Month                 0\n",
              "Shipment Day                   0\n",
              "Shipment Mode                  0\n",
              " Shipment Days - Scheduled     0\n",
              " Gross Sales                   0\n",
              " Discount %                    0\n",
              " Profit                        0\n",
              "dtype: int64"
            ]
          },
          "metadata": {},
          "execution_count": 9
        }
      ],
      "source": [
        "df_orders.isna().sum()"
      ]
    },
    {
      "cell_type": "code",
      "execution_count": 10,
      "metadata": {
        "colab": {
          "base_uri": "https://localhost:8080/"
        },
        "id": "AbV1Qb1GbpSF",
        "outputId": "6b1329a3-8ae3-4d19-e470-7a9b1d3bf91e"
      },
      "outputs": [
        {
          "output_type": "execute_result",
          "data": {
            "text/plain": [
              "Product Name               0\n",
              " Year Month                0\n",
              " Warehouse Inventory       0\n",
              "Inventory Cost Per Unit    0\n",
              "dtype: int64"
            ]
          },
          "metadata": {},
          "execution_count": 10
        }
      ],
      "source": [
        "df_inventory.isna().sum()"
      ]
    },
    {
      "cell_type": "code",
      "execution_count": 11,
      "metadata": {
        "colab": {
          "base_uri": "https://localhost:8080/"
        },
        "id": "BrLYGPqPbuDy",
        "outputId": "8f04f2b4-bbfa-44a7-b121-312b2c71ed91"
      },
      "outputs": [
        {
          "output_type": "execute_result",
          "data": {
            "text/plain": [
              "Product Name                            0\n",
              " Warehouse Order Fulfillment (days)     0\n",
              "dtype: int64"
            ]
          },
          "metadata": {},
          "execution_count": 11
        }
      ],
      "source": [
        "df_fulfillment.isna().sum()"
      ]
    },
    {
      "cell_type": "markdown",
      "metadata": {
        "id": "5ISkNfYhclFc"
      },
      "source": [
        "All three datasets do not contain any missing values. So, there is no need to handle missing data imputation."
      ]
    },
    {
      "cell_type": "markdown",
      "metadata": {
        "id": "9H67p-6GuIWk"
      },
      "source": [
        "## Duplicated Data"
      ]
    },
    {
      "cell_type": "code",
      "execution_count": 12,
      "metadata": {
        "colab": {
          "base_uri": "https://localhost:8080/"
        },
        "id": "ea8BLTrOuvbs",
        "outputId": "ce014043-1167-4660-ca4f-6d6e84f49b57"
      },
      "outputs": [
        {
          "output_type": "execute_result",
          "data": {
            "text/plain": [
              "0"
            ]
          },
          "metadata": {},
          "execution_count": 12
        }
      ],
      "source": [
        "df_orders.duplicated().sum()"
      ]
    },
    {
      "cell_type": "code",
      "execution_count": 13,
      "metadata": {
        "colab": {
          "base_uri": "https://localhost:8080/"
        },
        "id": "intdBkDcucxH",
        "outputId": "5b8ad767-edde-486a-cdbd-4952ec0234d6"
      },
      "outputs": [
        {
          "output_type": "execute_result",
          "data": {
            "text/plain": [
              "0"
            ]
          },
          "metadata": {},
          "execution_count": 13
        }
      ],
      "source": [
        "df_inventory.duplicated().sum()"
      ]
    },
    {
      "cell_type": "code",
      "execution_count": 14,
      "metadata": {
        "colab": {
          "base_uri": "https://localhost:8080/"
        },
        "id": "5RfKcWoVu6Hq",
        "outputId": "4f9bee2e-95d5-40f4-c8a4-61356b01fcbb"
      },
      "outputs": [
        {
          "output_type": "execute_result",
          "data": {
            "text/plain": [
              "0"
            ]
          },
          "metadata": {},
          "execution_count": 14
        }
      ],
      "source": [
        "df_fulfillment.duplicated().sum()"
      ]
    },
    {
      "cell_type": "markdown",
      "metadata": {
        "id": "y5Os5TeVvW94"
      },
      "source": [
        "Moreover, the absence of any duplicate values in all three datasets is also promising. This indicates that the data is fairly clean and ready for analysis."
      ]
    },
    {
      "cell_type": "markdown",
      "metadata": {
        "id": "clsxJa3Kcq_o"
      },
      "source": [
        "# Data Wrangling"
      ]
    },
    {
      "cell_type": "markdown",
      "metadata": {
        "id": "BCGXvUa4piEA"
      },
      "source": [
        "## Leading and Trailing Space"
      ]
    },
    {
      "cell_type": "code",
      "execution_count": 15,
      "metadata": {
        "colab": {
          "base_uri": "https://localhost:8080/"
        },
        "id": "01kvT6UniO1C",
        "outputId": "c97ab27f-bda2-47ca-d3d5-c2b7c4d73550"
      },
      "outputs": [
        {
          "output_type": "stream",
          "name": "stdout",
          "text": [
            "<class 'pandas.core.frame.DataFrame'>\n",
            "RangeIndex: 30871 entries, 0 to 30870\n",
            "Data columns (total 24 columns):\n",
            " #   Column                       Non-Null Count  Dtype \n",
            "---  ------                       --------------  ----- \n",
            " 0    Order ID                    30871 non-null  int64 \n",
            " 1    Order Item ID               30871 non-null  int64 \n",
            " 2    Order YearMonth             30871 non-null  int64 \n",
            " 3    Order Year                  30871 non-null  int64 \n",
            " 4    Order Month                 30871 non-null  int64 \n",
            " 5    Order Day                   30871 non-null  int64 \n",
            " 6   Order Time                   30871 non-null  object\n",
            " 7   Order Quantity               30871 non-null  int64 \n",
            " 8   Product Department           30871 non-null  object\n",
            " 9   Product Category             30871 non-null  object\n",
            " 10  Product Name                 30871 non-null  object\n",
            " 11   Customer ID                 30871 non-null  int64 \n",
            " 12  Customer Market              30871 non-null  object\n",
            " 13  Customer Region              30871 non-null  object\n",
            " 14  Customer Country             30871 non-null  object\n",
            " 15  Warehouse Country            30871 non-null  object\n",
            " 16  Shipment Year                30871 non-null  int64 \n",
            " 17  Shipment Month               30871 non-null  int64 \n",
            " 18  Shipment Day                 30871 non-null  int64 \n",
            " 19  Shipment Mode                30871 non-null  object\n",
            " 20   Shipment Days - Scheduled   30871 non-null  int64 \n",
            " 21   Gross Sales                 30871 non-null  int64 \n",
            " 22   Discount %                  30871 non-null  object\n",
            " 23   Profit                      30871 non-null  int64 \n",
            "dtypes: int64(14), object(10)\n",
            "memory usage: 5.7+ MB\n"
          ]
        }
      ],
      "source": [
        "df_orders.info()"
      ]
    },
    {
      "cell_type": "code",
      "execution_count": 16,
      "metadata": {
        "colab": {
          "base_uri": "https://localhost:8080/"
        },
        "id": "JF_kk5w9OBHx",
        "outputId": "47118ad5-92cb-4516-a87f-6a08d582d508"
      },
      "outputs": [
        {
          "output_type": "stream",
          "name": "stdout",
          "text": [
            "<class 'pandas.core.frame.DataFrame'>\n",
            "RangeIndex: 4200 entries, 0 to 4199\n",
            "Data columns (total 4 columns):\n",
            " #   Column                   Non-Null Count  Dtype  \n",
            "---  ------                   --------------  -----  \n",
            " 0   Product Name             4200 non-null   object \n",
            " 1    Year Month              4200 non-null   int64  \n",
            " 2    Warehouse Inventory     4200 non-null   int64  \n",
            " 3   Inventory Cost Per Unit  4200 non-null   float64\n",
            "dtypes: float64(1), int64(2), object(1)\n",
            "memory usage: 131.4+ KB\n"
          ]
        }
      ],
      "source": [
        "df_inventory.info()"
      ]
    },
    {
      "cell_type": "code",
      "execution_count": 17,
      "metadata": {
        "colab": {
          "base_uri": "https://localhost:8080/"
        },
        "id": "LQ15zTHaOFww",
        "outputId": "16391146-5625-4353-e0ac-2235ecbcb51d"
      },
      "outputs": [
        {
          "output_type": "stream",
          "name": "stdout",
          "text": [
            "<class 'pandas.core.frame.DataFrame'>\n",
            "RangeIndex: 118 entries, 0 to 117\n",
            "Data columns (total 2 columns):\n",
            " #   Column                                Non-Null Count  Dtype  \n",
            "---  ------                                --------------  -----  \n",
            " 0   Product Name                          118 non-null    object \n",
            " 1    Warehouse Order Fulfillment (days)   118 non-null    float64\n",
            "dtypes: float64(1), object(1)\n",
            "memory usage: 2.0+ KB\n"
          ]
        }
      ],
      "source": [
        "df_fulfillment.info()"
      ]
    },
    {
      "cell_type": "markdown",
      "metadata": {
        "id": "LqbQ6WGij_ZP"
      },
      "source": [
        "Upon inspecting the data using `.info()`, it has come to our attention that there are anomalies present in the datasets. Specifically, we have discovered that some columns contain leading or trailing spaces, which are not intended to be part of the column names."
      ]
    },
    {
      "cell_type": "code",
      "execution_count": 18,
      "metadata": {
        "id": "RGVCF3Axihgg"
      },
      "outputs": [],
      "source": [
        "# using strip fn removing unwanted spaces from columns name\n",
        "dataframes = [df_inventory, df_orders, df_fulfillment]\n",
        "\n",
        "for df in dataframes:\n",
        "  df.columns = df.columns.str.strip()"
      ]
    },
    {
      "cell_type": "code",
      "execution_count": 19,
      "metadata": {
        "colab": {
          "base_uri": "https://localhost:8080/"
        },
        "id": "QvKo71V9Ocj3",
        "outputId": "4347f7a4-86f6-41a9-e437-2266cb6e4a4c"
      },
      "outputs": [
        {
          "output_type": "execute_result",
          "data": {
            "text/plain": [
              "Index(['Order ID', 'Order Item ID', 'Order YearMonth', 'Order Year',\n",
              "       'Order Month', 'Order Day', 'Order Time', 'Order Quantity',\n",
              "       'Product Department', 'Product Category', 'Product Name', 'Customer ID',\n",
              "       'Customer Market', 'Customer Region', 'Customer Country',\n",
              "       'Warehouse Country', 'Shipment Year', 'Shipment Month', 'Shipment Day',\n",
              "       'Shipment Mode', 'Shipment Days - Scheduled', 'Gross Sales',\n",
              "       'Discount %', 'Profit'],\n",
              "      dtype='object')"
            ]
          },
          "metadata": {},
          "execution_count": 19
        }
      ],
      "source": [
        "df_orders.columns"
      ]
    },
    {
      "cell_type": "code",
      "execution_count": 20,
      "metadata": {
        "colab": {
          "base_uri": "https://localhost:8080/"
        },
        "id": "I4-sFrZlPAIc",
        "outputId": "0d1243af-d9d8-4ac0-d34f-c98d5f2f8ebf"
      },
      "outputs": [
        {
          "output_type": "execute_result",
          "data": {
            "text/plain": [
              "Index(['Product Name', 'Year Month', 'Warehouse Inventory',\n",
              "       'Inventory Cost Per Unit'],\n",
              "      dtype='object')"
            ]
          },
          "metadata": {},
          "execution_count": 20
        }
      ],
      "source": [
        "df_inventory.columns"
      ]
    },
    {
      "cell_type": "code",
      "execution_count": 21,
      "metadata": {
        "colab": {
          "base_uri": "https://localhost:8080/"
        },
        "id": "upikotyhPDwr",
        "outputId": "d3a54f36-21ec-44d8-aa77-a9daffd5d250"
      },
      "outputs": [
        {
          "output_type": "execute_result",
          "data": {
            "text/plain": [
              "Index(['Product Name', 'Warehouse Order Fulfillment (days)'], dtype='object')"
            ]
          },
          "metadata": {},
          "execution_count": 21
        }
      ],
      "source": [
        "df_fulfillment.columns"
      ]
    },
    {
      "cell_type": "code",
      "source": [
        "df_orders.columns"
      ],
      "metadata": {
        "colab": {
          "base_uri": "https://localhost:8080/"
        },
        "id": "eSBwtK8iFWWi",
        "outputId": "31c1f66b-cf73-4f12-d9c3-b277b2f775f1"
      },
      "execution_count": 22,
      "outputs": [
        {
          "output_type": "execute_result",
          "data": {
            "text/plain": [
              "Index(['Order ID', 'Order Item ID', 'Order YearMonth', 'Order Year',\n",
              "       'Order Month', 'Order Day', 'Order Time', 'Order Quantity',\n",
              "       'Product Department', 'Product Category', 'Product Name', 'Customer ID',\n",
              "       'Customer Market', 'Customer Region', 'Customer Country',\n",
              "       'Warehouse Country', 'Shipment Year', 'Shipment Month', 'Shipment Day',\n",
              "       'Shipment Mode', 'Shipment Days - Scheduled', 'Gross Sales',\n",
              "       'Discount %', 'Profit'],\n",
              "      dtype='object')"
            ]
          },
          "metadata": {},
          "execution_count": 22
        }
      ]
    },
    {
      "cell_type": "code",
      "source": [
        "df_orders['Discount %'].sample(30)"
      ],
      "metadata": {
        "colab": {
          "base_uri": "https://localhost:8080/"
        },
        "id": "CDsRQ3bbFbmv",
        "outputId": "3b0f198e-fe22-4351-8dae-d2d8ddad116a"
      },
      "execution_count": 23,
      "outputs": [
        {
          "output_type": "execute_result",
          "data": {
            "text/plain": [
              "13201     0.17\n",
              "15709     0.17\n",
              "19212     0.09\n",
              "12653     0.01\n",
              "26740     0.13\n",
              "30683      0.1\n",
              "22975     0.12\n",
              "28457     0.03\n",
              "19353     0.07\n",
              "4791       -  \n",
              "18047      0.2\n",
              "15861      0.2\n",
              "7997      0.02\n",
              "29597     0.12\n",
              "5893      0.12\n",
              "28412     0.15\n",
              "21099     0.25\n",
              "17385     0.01\n",
              "5783      0.05\n",
              "13352     0.01\n",
              "26306      -  \n",
              "211       0.16\n",
              "23400     0.13\n",
              "6032      0.16\n",
              "27791     0.04\n",
              "6330      0.15\n",
              "7285      0.17\n",
              "7611      0.16\n",
              "355       0.09\n",
              "3445      0.09\n",
              "Name: Discount %, dtype: object"
            ]
          },
          "metadata": {},
          "execution_count": 23
        }
      ]
    },
    {
      "cell_type": "markdown",
      "source": [
        "Based on above data, there are some rows with - values. Need to replace this - values with 0. In odrer to read this data properly."
      ],
      "metadata": {
        "id": "TdTfQswn3dVp"
      }
    },
    {
      "cell_type": "code",
      "execution_count": 24,
      "metadata": {
        "id": "sD82QbdlnLxK"
      },
      "outputs": [],
      "source": [
        "# Convert the '-' values to 0 in the 'Discount %' column and then change the data type from object to float\n",
        "df_orders['Discount %'] = df_orders['Discount %'].replace('  -  ', 0).astype(float)"
      ]
    },
    {
      "cell_type": "code",
      "source": [
        "df_orders.columns"
      ],
      "metadata": {
        "colab": {
          "base_uri": "https://localhost:8080/"
        },
        "id": "hEquwTd44fJq",
        "outputId": "83772e74-8026-44d6-bfb1-5c26ccf0a255"
      },
      "execution_count": 25,
      "outputs": [
        {
          "output_type": "execute_result",
          "data": {
            "text/plain": [
              "Index(['Order ID', 'Order Item ID', 'Order YearMonth', 'Order Year',\n",
              "       'Order Month', 'Order Day', 'Order Time', 'Order Quantity',\n",
              "       'Product Department', 'Product Category', 'Product Name', 'Customer ID',\n",
              "       'Customer Market', 'Customer Region', 'Customer Country',\n",
              "       'Warehouse Country', 'Shipment Year', 'Shipment Month', 'Shipment Day',\n",
              "       'Shipment Mode', 'Shipment Days - Scheduled', 'Gross Sales',\n",
              "       'Discount %', 'Profit'],\n",
              "      dtype='object')"
            ]
          },
          "metadata": {},
          "execution_count": 25
        }
      ]
    },
    {
      "cell_type": "markdown",
      "metadata": {
        "id": "Tfs-hGuCzr2w"
      },
      "source": [
        "## Feature Engineering :\n",
        "Order Datetime & Shipment Datetime"
      ]
    },
    {
      "cell_type": "markdown",
      "metadata": {
        "id": "fyTxiUIzQxH9"
      },
      "source": [
        "Due to the data being separated into multiple columns for year, month, day, and time, resulting in a large number of columns, I have decided to combine these columns into a single column that includes all the necessary date and time information. This will help simplify the data and make it more manageable for further analysis in Tableau."
      ]
    },
    {
      "cell_type": "code",
      "execution_count": 26,
      "metadata": {
        "colab": {
          "base_uri": "https://localhost:8080/",
          "height": 206
        },
        "id": "ATaHLaf2gSKs",
        "outputId": "23de7d47-78fa-4d76-dedb-a1885cb981a2"
      },
      "outputs": [
        {
          "output_type": "execute_result",
          "data": {
            "text/plain": [
              "       Order Datetime Shipment Datetime\n",
              "0 2015-02-21 14:07:00        2015-02-27\n",
              "1 2015-03-02 07:37:00        2015-03-06\n",
              "2 2015-04-18 22:47:00        2015-04-20\n",
              "3 2015-06-10 22:32:00        2015-06-12\n",
              "4 2015-06-10 22:32:00        2015-06-12"
            ],
            "text/html": [
              "\n",
              "  <div id=\"df-7ff14242-0311-4bc2-b5d3-3aeb9d1e46c5\" class=\"colab-df-container\">\n",
              "    <div>\n",
              "<style scoped>\n",
              "    .dataframe tbody tr th:only-of-type {\n",
              "        vertical-align: middle;\n",
              "    }\n",
              "\n",
              "    .dataframe tbody tr th {\n",
              "        vertical-align: top;\n",
              "    }\n",
              "\n",
              "    .dataframe thead th {\n",
              "        text-align: right;\n",
              "    }\n",
              "</style>\n",
              "<table border=\"1\" class=\"dataframe\">\n",
              "  <thead>\n",
              "    <tr style=\"text-align: right;\">\n",
              "      <th></th>\n",
              "      <th>Order Datetime</th>\n",
              "      <th>Shipment Datetime</th>\n",
              "    </tr>\n",
              "  </thead>\n",
              "  <tbody>\n",
              "    <tr>\n",
              "      <th>0</th>\n",
              "      <td>2015-02-21 14:07:00</td>\n",
              "      <td>2015-02-27</td>\n",
              "    </tr>\n",
              "    <tr>\n",
              "      <th>1</th>\n",
              "      <td>2015-03-02 07:37:00</td>\n",
              "      <td>2015-03-06</td>\n",
              "    </tr>\n",
              "    <tr>\n",
              "      <th>2</th>\n",
              "      <td>2015-04-18 22:47:00</td>\n",
              "      <td>2015-04-20</td>\n",
              "    </tr>\n",
              "    <tr>\n",
              "      <th>3</th>\n",
              "      <td>2015-06-10 22:32:00</td>\n",
              "      <td>2015-06-12</td>\n",
              "    </tr>\n",
              "    <tr>\n",
              "      <th>4</th>\n",
              "      <td>2015-06-10 22:32:00</td>\n",
              "      <td>2015-06-12</td>\n",
              "    </tr>\n",
              "  </tbody>\n",
              "</table>\n",
              "</div>\n",
              "    <div class=\"colab-df-buttons\">\n",
              "\n",
              "  <div class=\"colab-df-container\">\n",
              "    <button class=\"colab-df-convert\" onclick=\"convertToInteractive('df-7ff14242-0311-4bc2-b5d3-3aeb9d1e46c5')\"\n",
              "            title=\"Convert this dataframe to an interactive table.\"\n",
              "            style=\"display:none;\">\n",
              "\n",
              "  <svg xmlns=\"http://www.w3.org/2000/svg\" height=\"24px\" viewBox=\"0 -960 960 960\">\n",
              "    <path d=\"M120-120v-720h720v720H120Zm60-500h600v-160H180v160Zm220 220h160v-160H400v160Zm0 220h160v-160H400v160ZM180-400h160v-160H180v160Zm440 0h160v-160H620v160ZM180-180h160v-160H180v160Zm440 0h160v-160H620v160Z\"/>\n",
              "  </svg>\n",
              "    </button>\n",
              "\n",
              "  <style>\n",
              "    .colab-df-container {\n",
              "      display:flex;\n",
              "      gap: 12px;\n",
              "    }\n",
              "\n",
              "    .colab-df-convert {\n",
              "      background-color: #E8F0FE;\n",
              "      border: none;\n",
              "      border-radius: 50%;\n",
              "      cursor: pointer;\n",
              "      display: none;\n",
              "      fill: #1967D2;\n",
              "      height: 32px;\n",
              "      padding: 0 0 0 0;\n",
              "      width: 32px;\n",
              "    }\n",
              "\n",
              "    .colab-df-convert:hover {\n",
              "      background-color: #E2EBFA;\n",
              "      box-shadow: 0px 1px 2px rgba(60, 64, 67, 0.3), 0px 1px 3px 1px rgba(60, 64, 67, 0.15);\n",
              "      fill: #174EA6;\n",
              "    }\n",
              "\n",
              "    .colab-df-buttons div {\n",
              "      margin-bottom: 4px;\n",
              "    }\n",
              "\n",
              "    [theme=dark] .colab-df-convert {\n",
              "      background-color: #3B4455;\n",
              "      fill: #D2E3FC;\n",
              "    }\n",
              "\n",
              "    [theme=dark] .colab-df-convert:hover {\n",
              "      background-color: #434B5C;\n",
              "      box-shadow: 0px 1px 3px 1px rgba(0, 0, 0, 0.15);\n",
              "      filter: drop-shadow(0px 1px 2px rgba(0, 0, 0, 0.3));\n",
              "      fill: #FFFFFF;\n",
              "    }\n",
              "  </style>\n",
              "\n",
              "    <script>\n",
              "      const buttonEl =\n",
              "        document.querySelector('#df-7ff14242-0311-4bc2-b5d3-3aeb9d1e46c5 button.colab-df-convert');\n",
              "      buttonEl.style.display =\n",
              "        google.colab.kernel.accessAllowed ? 'block' : 'none';\n",
              "\n",
              "      async function convertToInteractive(key) {\n",
              "        const element = document.querySelector('#df-7ff14242-0311-4bc2-b5d3-3aeb9d1e46c5');\n",
              "        const dataTable =\n",
              "          await google.colab.kernel.invokeFunction('convertToInteractive',\n",
              "                                                    [key], {});\n",
              "        if (!dataTable) return;\n",
              "\n",
              "        const docLinkHtml = 'Like what you see? Visit the ' +\n",
              "          '<a target=\"_blank\" href=https://colab.research.google.com/notebooks/data_table.ipynb>data table notebook</a>'\n",
              "          + ' to learn more about interactive tables.';\n",
              "        element.innerHTML = '';\n",
              "        dataTable['output_type'] = 'display_data';\n",
              "        await google.colab.output.renderOutput(dataTable, element);\n",
              "        const docLink = document.createElement('div');\n",
              "        docLink.innerHTML = docLinkHtml;\n",
              "        element.appendChild(docLink);\n",
              "      }\n",
              "    </script>\n",
              "  </div>\n",
              "\n",
              "\n",
              "<div id=\"df-45d145d9-1d99-43c8-9271-f5a0aa7c8bf1\">\n",
              "  <button class=\"colab-df-quickchart\" onclick=\"quickchart('df-45d145d9-1d99-43c8-9271-f5a0aa7c8bf1')\"\n",
              "            title=\"Suggest charts\"\n",
              "            style=\"display:none;\">\n",
              "\n",
              "<svg xmlns=\"http://www.w3.org/2000/svg\" height=\"24px\"viewBox=\"0 0 24 24\"\n",
              "     width=\"24px\">\n",
              "    <g>\n",
              "        <path d=\"M19 3H5c-1.1 0-2 .9-2 2v14c0 1.1.9 2 2 2h14c1.1 0 2-.9 2-2V5c0-1.1-.9-2-2-2zM9 17H7v-7h2v7zm4 0h-2V7h2v10zm4 0h-2v-4h2v4z\"/>\n",
              "    </g>\n",
              "</svg>\n",
              "  </button>\n",
              "\n",
              "<style>\n",
              "  .colab-df-quickchart {\n",
              "      --bg-color: #E8F0FE;\n",
              "      --fill-color: #1967D2;\n",
              "      --hover-bg-color: #E2EBFA;\n",
              "      --hover-fill-color: #174EA6;\n",
              "      --disabled-fill-color: #AAA;\n",
              "      --disabled-bg-color: #DDD;\n",
              "  }\n",
              "\n",
              "  [theme=dark] .colab-df-quickchart {\n",
              "      --bg-color: #3B4455;\n",
              "      --fill-color: #D2E3FC;\n",
              "      --hover-bg-color: #434B5C;\n",
              "      --hover-fill-color: #FFFFFF;\n",
              "      --disabled-bg-color: #3B4455;\n",
              "      --disabled-fill-color: #666;\n",
              "  }\n",
              "\n",
              "  .colab-df-quickchart {\n",
              "    background-color: var(--bg-color);\n",
              "    border: none;\n",
              "    border-radius: 50%;\n",
              "    cursor: pointer;\n",
              "    display: none;\n",
              "    fill: var(--fill-color);\n",
              "    height: 32px;\n",
              "    padding: 0;\n",
              "    width: 32px;\n",
              "  }\n",
              "\n",
              "  .colab-df-quickchart:hover {\n",
              "    background-color: var(--hover-bg-color);\n",
              "    box-shadow: 0 1px 2px rgba(60, 64, 67, 0.3), 0 1px 3px 1px rgba(60, 64, 67, 0.15);\n",
              "    fill: var(--button-hover-fill-color);\n",
              "  }\n",
              "\n",
              "  .colab-df-quickchart-complete:disabled,\n",
              "  .colab-df-quickchart-complete:disabled:hover {\n",
              "    background-color: var(--disabled-bg-color);\n",
              "    fill: var(--disabled-fill-color);\n",
              "    box-shadow: none;\n",
              "  }\n",
              "\n",
              "  .colab-df-spinner {\n",
              "    border: 2px solid var(--fill-color);\n",
              "    border-color: transparent;\n",
              "    border-bottom-color: var(--fill-color);\n",
              "    animation:\n",
              "      spin 1s steps(1) infinite;\n",
              "  }\n",
              "\n",
              "  @keyframes spin {\n",
              "    0% {\n",
              "      border-color: transparent;\n",
              "      border-bottom-color: var(--fill-color);\n",
              "      border-left-color: var(--fill-color);\n",
              "    }\n",
              "    20% {\n",
              "      border-color: transparent;\n",
              "      border-left-color: var(--fill-color);\n",
              "      border-top-color: var(--fill-color);\n",
              "    }\n",
              "    30% {\n",
              "      border-color: transparent;\n",
              "      border-left-color: var(--fill-color);\n",
              "      border-top-color: var(--fill-color);\n",
              "      border-right-color: var(--fill-color);\n",
              "    }\n",
              "    40% {\n",
              "      border-color: transparent;\n",
              "      border-right-color: var(--fill-color);\n",
              "      border-top-color: var(--fill-color);\n",
              "    }\n",
              "    60% {\n",
              "      border-color: transparent;\n",
              "      border-right-color: var(--fill-color);\n",
              "    }\n",
              "    80% {\n",
              "      border-color: transparent;\n",
              "      border-right-color: var(--fill-color);\n",
              "      border-bottom-color: var(--fill-color);\n",
              "    }\n",
              "    90% {\n",
              "      border-color: transparent;\n",
              "      border-bottom-color: var(--fill-color);\n",
              "    }\n",
              "  }\n",
              "</style>\n",
              "\n",
              "  <script>\n",
              "    async function quickchart(key) {\n",
              "      const quickchartButtonEl =\n",
              "        document.querySelector('#' + key + ' button');\n",
              "      quickchartButtonEl.disabled = true;  // To prevent multiple clicks.\n",
              "      quickchartButtonEl.classList.add('colab-df-spinner');\n",
              "      try {\n",
              "        const charts = await google.colab.kernel.invokeFunction(\n",
              "            'suggestCharts', [key], {});\n",
              "      } catch (error) {\n",
              "        console.error('Error during call to suggestCharts:', error);\n",
              "      }\n",
              "      quickchartButtonEl.classList.remove('colab-df-spinner');\n",
              "      quickchartButtonEl.classList.add('colab-df-quickchart-complete');\n",
              "    }\n",
              "    (() => {\n",
              "      let quickchartButtonEl =\n",
              "        document.querySelector('#df-45d145d9-1d99-43c8-9271-f5a0aa7c8bf1 button');\n",
              "      quickchartButtonEl.style.display =\n",
              "        google.colab.kernel.accessAllowed ? 'block' : 'none';\n",
              "    })();\n",
              "  </script>\n",
              "</div>\n",
              "\n",
              "    </div>\n",
              "  </div>\n"
            ],
            "application/vnd.google.colaboratory.intrinsic+json": {
              "type": "dataframe",
              "summary": "{\n  \"name\": \"df_orders[['Order Datetime', 'Shipment Datetime']]\",\n  \"rows\": 5,\n  \"fields\": [\n    {\n      \"column\": \"Order Datetime\",\n      \"properties\": {\n        \"dtype\": \"date\",\n        \"min\": \"2015-02-21 14:07:00\",\n        \"max\": \"2015-06-10 22:32:00\",\n        \"num_unique_values\": 4,\n        \"samples\": [\n          \"2015-03-02 07:37:00\",\n          \"2015-06-10 22:32:00\",\n          \"2015-02-21 14:07:00\"\n        ],\n        \"semantic_type\": \"\",\n        \"description\": \"\"\n      }\n    },\n    {\n      \"column\": \"Shipment Datetime\",\n      \"properties\": {\n        \"dtype\": \"date\",\n        \"min\": \"2015-02-27 00:00:00\",\n        \"max\": \"2015-06-12 00:00:00\",\n        \"num_unique_values\": 4,\n        \"samples\": [\n          \"2015-03-06 00:00:00\",\n          \"2015-06-12 00:00:00\",\n          \"2015-02-27 00:00:00\"\n        ],\n        \"semantic_type\": \"\",\n        \"description\": \"\"\n      }\n    }\n  ]\n}"
            }
          },
          "metadata": {},
          "execution_count": 26
        }
      ],
      "source": [
        "# Make new columns: Order Datetime and Shipment Datetime\n",
        "df_orders['Order Datetime'] = pd.to_datetime(df_orders['Order Year'].astype(str) + '-' + df_orders['Order Month'].astype(str) + '-' + df_orders['Order Day'].astype(str) + ' ' + df_orders['Order Time'])\n",
        "df_orders['Shipment Datetime'] = pd.to_datetime(df_orders['Shipment Year'].astype(str) + '-' + df_orders['Shipment Month'].astype(str) + '-' + df_orders['Shipment Day'].astype(str))\n",
        "\n",
        "# Displaying the result\n",
        "df_orders[['Order Datetime', 'Shipment Datetime']].head()"
      ]
    },
    {
      "cell_type": "code",
      "execution_count": 27,
      "metadata": {
        "id": "QjrKvA0_wWp-"
      },
      "outputs": [],
      "source": [
        "# Drop unnecessary columns\n",
        "df_orders.drop(columns=['Order Year', 'Order Month', 'Order Day', 'Order Time',\n",
        "                        'Shipment Year', 'Shipment Month', 'Shipment Day'], inplace=True)"
      ]
    },
    {
      "cell_type": "markdown",
      "source": [
        "### Remving unwanted characters in country name"
      ],
      "metadata": {
        "id": "RneI8jotrwI_"
      }
    },
    {
      "cell_type": "code",
      "source": [
        "df_orders['Customer Country'].unique()"
      ],
      "metadata": {
        "colab": {
          "base_uri": "https://localhost:8080/"
        },
        "id": "fYyxYc_x4MIF",
        "outputId": "f96fb21a-7d70-4021-f1d8-5e652df8933a"
      },
      "execution_count": 28,
      "outputs": [
        {
          "output_type": "execute_result",
          "data": {
            "text/plain": [
              "array(['Mexico', 'Brazil', 'Denmark', 'Netherlands', 'Germany', 'China',\n",
              "       'Indonesia', 'Pakistan', 'India', 'USA', 'Hungary', 'Sudan',\n",
              "       'Democratic Republic of Congo', 'Poland', 'Togo', 'Guatemala',\n",
              "       'Panama', 'Chile', 'France', 'Sweden', 'Dominican\\xa0Republic',\n",
              "       'Venezuela', 'South Korea', 'Madagascar', 'Iran', 'Cuba',\n",
              "       'Nicaragua', 'United Kingdom', 'Afghanistan', 'Singapore',\n",
              "       'Morocco', 'Spain', 'Niger', 'Turkey', 'South Africa', 'Iraq',\n",
              "       'Honduras', 'Italy', 'Australia', 'Cote d\\x92Ivoire', 'Croatia',\n",
              "       'Ecuador', 'Syria', 'Haiti', 'Bangladesh', 'Argentina', 'Romania',\n",
              "       'El Salvador', 'Vietnam', 'Japan', 'Nigeria', 'Belarus',\n",
              "       'Uzbekistan', 'Egypt', 'Albania', 'Georgia', 'Cameroon',\n",
              "       'Colombia', 'New zealand', 'Canada', 'Thailand', 'Senegal',\n",
              "       'Russia', 'Perú', 'Algeria\\xa0', 'Ukraine', 'Belgium',\n",
              "       'Philippines', 'Austria', 'Uruguay', 'Malaysia', 'Hong Kong',\n",
              "       'Saudi Arabia', 'Switzerland', 'Ireland', 'Bulgaria', 'Zambia',\n",
              "       'Jamaica', 'Ghana', 'Yemen', 'Norway', 'Tanzania', 'Kazakhstan',\n",
              "       'Libya', 'Trinidad and Tobago', 'Finland', 'Portugal', 'Kenya',\n",
              "       'Jordania', 'Bolivia', 'Gabon', 'Angola', 'Myanmar', 'Mali', 'UAE',\n",
              "       'Bosnia and Herzegovina', 'Guinea', 'Cambodia', 'Papua New Guinea',\n",
              "       'Rwanda', 'Israel\\xa0', 'Guyana', 'Somalia', 'Barbados',\n",
              "       'Guadalupe', 'Kyrgyzstan', 'Benín', 'Tunisia', 'Lithuania',\n",
              "       'Montenegro', 'Costa Rica', 'Mozambique', 'Sri Lanka', 'Taiwan',\n",
              "       'Czech Republic (Czechia)', 'Lesotho', 'Mongolia', 'Macedonia',\n",
              "       'Zimbabwe', 'Liberia', 'Liban', 'Guinea-Bissau', 'Estonia',\n",
              "       'Azerbaijan', 'Moldova', 'Republic of Congo', 'Gambia',\n",
              "       'Mauritania', 'Belize', 'Qatar', 'Sierra Leona', 'Slovakia',\n",
              "       'Martinique', 'Uganda', 'Namibia', 'Paraguay', 'Oman',\n",
              "       'French Guiana', 'Nepal'], dtype=object)"
            ]
          },
          "metadata": {},
          "execution_count": 28
        }
      ]
    },
    {
      "cell_type": "code",
      "source": [
        "#replace the special characters in the Customer Country column\n",
        "df_orders['Customer Country'] = df_orders['Customer Country'].replace({\n",
        "    'Dominican\\xa0Republic': 'Dominican Republic',\n",
        "    'Cote d\\x92Ivoire': 'Cote d Ivoire', # Added a comma at the end of this line\n",
        "    'Perú': 'Peru',\n",
        "    'Algeria\\xa0': 'Algeria',\n",
        "    'Israel\\xa0':'Israel',\n",
        "    'Benín': 'Benin'\n",
        "})\n",
        "df_orders['Customer Country'].unique()"
      ],
      "metadata": {
        "colab": {
          "base_uri": "https://localhost:8080/"
        },
        "id": "mCUPxlQe5P61",
        "outputId": "9a225499-8338-4afa-b25c-fd25c374800c"
      },
      "execution_count": 29,
      "outputs": [
        {
          "output_type": "execute_result",
          "data": {
            "text/plain": [
              "array(['Mexico', 'Brazil', 'Denmark', 'Netherlands', 'Germany', 'China',\n",
              "       'Indonesia', 'Pakistan', 'India', 'USA', 'Hungary', 'Sudan',\n",
              "       'Democratic Republic of Congo', 'Poland', 'Togo', 'Guatemala',\n",
              "       'Panama', 'Chile', 'France', 'Sweden', 'Dominican Republic',\n",
              "       'Venezuela', 'South Korea', 'Madagascar', 'Iran', 'Cuba',\n",
              "       'Nicaragua', 'United Kingdom', 'Afghanistan', 'Singapore',\n",
              "       'Morocco', 'Spain', 'Niger', 'Turkey', 'South Africa', 'Iraq',\n",
              "       'Honduras', 'Italy', 'Australia', 'Cote d Ivoire', 'Croatia',\n",
              "       'Ecuador', 'Syria', 'Haiti', 'Bangladesh', 'Argentina', 'Romania',\n",
              "       'El Salvador', 'Vietnam', 'Japan', 'Nigeria', 'Belarus',\n",
              "       'Uzbekistan', 'Egypt', 'Albania', 'Georgia', 'Cameroon',\n",
              "       'Colombia', 'New zealand', 'Canada', 'Thailand', 'Senegal',\n",
              "       'Russia', 'Peru', 'Algeria', 'Ukraine', 'Belgium', 'Philippines',\n",
              "       'Austria', 'Uruguay', 'Malaysia', 'Hong Kong', 'Saudi Arabia',\n",
              "       'Switzerland', 'Ireland', 'Bulgaria', 'Zambia', 'Jamaica', 'Ghana',\n",
              "       'Yemen', 'Norway', 'Tanzania', 'Kazakhstan', 'Libya',\n",
              "       'Trinidad and Tobago', 'Finland', 'Portugal', 'Kenya', 'Jordania',\n",
              "       'Bolivia', 'Gabon', 'Angola', 'Myanmar', 'Mali', 'UAE',\n",
              "       'Bosnia and Herzegovina', 'Guinea', 'Cambodia', 'Papua New Guinea',\n",
              "       'Rwanda', 'Israel', 'Guyana', 'Somalia', 'Barbados', 'Guadalupe',\n",
              "       'Kyrgyzstan', 'Benin', 'Tunisia', 'Lithuania', 'Montenegro',\n",
              "       'Costa Rica', 'Mozambique', 'Sri Lanka', 'Taiwan',\n",
              "       'Czech Republic (Czechia)', 'Lesotho', 'Mongolia', 'Macedonia',\n",
              "       'Zimbabwe', 'Liberia', 'Liban', 'Guinea-Bissau', 'Estonia',\n",
              "       'Azerbaijan', 'Moldova', 'Republic of Congo', 'Gambia',\n",
              "       'Mauritania', 'Belize', 'Qatar', 'Sierra Leona', 'Slovakia',\n",
              "       'Martinique', 'Uganda', 'Namibia', 'Paraguay', 'Oman',\n",
              "       'French Guiana', 'Nepal'], dtype=object)"
            ]
          },
          "metadata": {},
          "execution_count": 29
        }
      ]
    },
    {
      "cell_type": "markdown",
      "metadata": {
        "id": "yNB5-AE47aH1"
      },
      "source": [
        "# Data Manipulation"
      ]
    },
    {
      "cell_type": "markdown",
      "metadata": {
        "id": "y8BkcrKoUUgr"
      },
      "source": [
        "## Order Processing Time"
      ]
    },
    {
      "cell_type": "markdown",
      "metadata": {
        "id": "Z_EXFFcLUW-S"
      },
      "source": [
        "The \"`Order Processing Time`\" is obtained by subtracting the \"`Order Datetime`\" from the \"`Shipment Datetime`\".\n",
        "\n",
        "It measures the time taken for the order to move through various stages, including **processing, packing, and delivery preparation**, until it is ready for shipment.\n",
        "\n",
        "This metric helps us understand how quickly we can fulfill customer orders and deliver products to their destination."
      ]
    },
    {
      "cell_type": "code",
      "execution_count": 30,
      "metadata": {
        "colab": {
          "base_uri": "https://localhost:8080/",
          "height": 538
        },
        "id": "VGJlkQVoUZFl",
        "outputId": "7892af5c-82a2-445b-fa0d-8b28ce69daf7"
      },
      "outputs": [
        {
          "output_type": "execute_result",
          "data": {
            "text/plain": [
              "       Order ID  Order Item ID  Order YearMonth  Order Quantity  \\\n",
              "24625     47278         118200           201611               4   \n",
              "21145     31241          78084           201604               1   \n",
              "1503       7725          19311           201504               3   \n",
              "25655     15671          39177           201508               1   \n",
              "9580      43583         108840           201609               1   \n",
              "\n",
              "      Product Department  Product Category  \\\n",
              "24625               Golf   Women's Apparel   \n",
              "21145               Golf     Shop By Sport   \n",
              "1503             Apparel            Cleats   \n",
              "25655           Fan Shop  Camping & Hiking   \n",
              "9580             Apparel            Cleats   \n",
              "\n",
              "                                        Product Name  Customer ID  \\\n",
              "24625           Nike Men's Dri-FIT Victory Golf Polo         5504   \n",
              "21145  Under Armour Girls' Toddler Spine Surge Runni        11388   \n",
              "1503                Perfect Fitness Perfect Rip Deck         7223   \n",
              "25655  Diamondback Women's Serene Classic Comfort Bi         3648   \n",
              "9580                Perfect Fitness Perfect Rip Deck         1294   \n",
              "\n",
              "      Customer Market  Customer Region Customer Country Warehouse Country  \\\n",
              "24625   North America           Canada           Canada       Puerto Rico   \n",
              "21145    Pacific Asia          Oceania      New zealand               USA   \n",
              "1503            LATAM    South America        Venezuela       Puerto Rico   \n",
              "25655          Europe  Northern Europe   United Kingdom       Puerto Rico   \n",
              "9580     Pacific Asia        West Asia           Turkey       Puerto Rico   \n",
              "\n",
              "        Shipment Mode  Shipment Days - Scheduled  Gross Sales  Discount %  \\\n",
              "24625    Second Class                          2          200        0.07   \n",
              "21145    Second Class                          2           40        0.15   \n",
              "1503     Second Class                          2          180        0.20   \n",
              "25655    Second Class                          2          300        0.13   \n",
              "9580   Standard Class                          4           60        0.04   \n",
              "\n",
              "       Profit      Order Datetime Shipment Datetime  Order Processing Time  \n",
              "24625     125 2016-11-21 03:14:00        2016-11-25                      3  \n",
              "21145      97 2016-04-01 00:45:00        2016-03-14                    -19  \n",
              "1503      147 2015-04-23 18:03:00        2015-04-29                      5  \n",
              "25655     150 2015-08-17 17:53:00        2015-08-19                      1  \n",
              "9580      147 2016-09-28 04:42:00        2016-10-02                      3  "
            ],
            "text/html": [
              "\n",
              "  <div id=\"df-8979e6eb-cd61-41bc-ac09-3c352ed50444\" class=\"colab-df-container\">\n",
              "    <div>\n",
              "<style scoped>\n",
              "    .dataframe tbody tr th:only-of-type {\n",
              "        vertical-align: middle;\n",
              "    }\n",
              "\n",
              "    .dataframe tbody tr th {\n",
              "        vertical-align: top;\n",
              "    }\n",
              "\n",
              "    .dataframe thead th {\n",
              "        text-align: right;\n",
              "    }\n",
              "</style>\n",
              "<table border=\"1\" class=\"dataframe\">\n",
              "  <thead>\n",
              "    <tr style=\"text-align: right;\">\n",
              "      <th></th>\n",
              "      <th>Order ID</th>\n",
              "      <th>Order Item ID</th>\n",
              "      <th>Order YearMonth</th>\n",
              "      <th>Order Quantity</th>\n",
              "      <th>Product Department</th>\n",
              "      <th>Product Category</th>\n",
              "      <th>Product Name</th>\n",
              "      <th>Customer ID</th>\n",
              "      <th>Customer Market</th>\n",
              "      <th>Customer Region</th>\n",
              "      <th>Customer Country</th>\n",
              "      <th>Warehouse Country</th>\n",
              "      <th>Shipment Mode</th>\n",
              "      <th>Shipment Days - Scheduled</th>\n",
              "      <th>Gross Sales</th>\n",
              "      <th>Discount %</th>\n",
              "      <th>Profit</th>\n",
              "      <th>Order Datetime</th>\n",
              "      <th>Shipment Datetime</th>\n",
              "      <th>Order Processing Time</th>\n",
              "    </tr>\n",
              "  </thead>\n",
              "  <tbody>\n",
              "    <tr>\n",
              "      <th>24625</th>\n",
              "      <td>47278</td>\n",
              "      <td>118200</td>\n",
              "      <td>201611</td>\n",
              "      <td>4</td>\n",
              "      <td>Golf</td>\n",
              "      <td>Women's Apparel</td>\n",
              "      <td>Nike Men's Dri-FIT Victory Golf Polo</td>\n",
              "      <td>5504</td>\n",
              "      <td>North America</td>\n",
              "      <td>Canada</td>\n",
              "      <td>Canada</td>\n",
              "      <td>Puerto Rico</td>\n",
              "      <td>Second Class</td>\n",
              "      <td>2</td>\n",
              "      <td>200</td>\n",
              "      <td>0.07</td>\n",
              "      <td>125</td>\n",
              "      <td>2016-11-21 03:14:00</td>\n",
              "      <td>2016-11-25</td>\n",
              "      <td>3</td>\n",
              "    </tr>\n",
              "    <tr>\n",
              "      <th>21145</th>\n",
              "      <td>31241</td>\n",
              "      <td>78084</td>\n",
              "      <td>201604</td>\n",
              "      <td>1</td>\n",
              "      <td>Golf</td>\n",
              "      <td>Shop By Sport</td>\n",
              "      <td>Under Armour Girls' Toddler Spine Surge Runni</td>\n",
              "      <td>11388</td>\n",
              "      <td>Pacific Asia</td>\n",
              "      <td>Oceania</td>\n",
              "      <td>New zealand</td>\n",
              "      <td>USA</td>\n",
              "      <td>Second Class</td>\n",
              "      <td>2</td>\n",
              "      <td>40</td>\n",
              "      <td>0.15</td>\n",
              "      <td>97</td>\n",
              "      <td>2016-04-01 00:45:00</td>\n",
              "      <td>2016-03-14</td>\n",
              "      <td>-19</td>\n",
              "    </tr>\n",
              "    <tr>\n",
              "      <th>1503</th>\n",
              "      <td>7725</td>\n",
              "      <td>19311</td>\n",
              "      <td>201504</td>\n",
              "      <td>3</td>\n",
              "      <td>Apparel</td>\n",
              "      <td>Cleats</td>\n",
              "      <td>Perfect Fitness Perfect Rip Deck</td>\n",
              "      <td>7223</td>\n",
              "      <td>LATAM</td>\n",
              "      <td>South America</td>\n",
              "      <td>Venezuela</td>\n",
              "      <td>Puerto Rico</td>\n",
              "      <td>Second Class</td>\n",
              "      <td>2</td>\n",
              "      <td>180</td>\n",
              "      <td>0.20</td>\n",
              "      <td>147</td>\n",
              "      <td>2015-04-23 18:03:00</td>\n",
              "      <td>2015-04-29</td>\n",
              "      <td>5</td>\n",
              "    </tr>\n",
              "    <tr>\n",
              "      <th>25655</th>\n",
              "      <td>15671</td>\n",
              "      <td>39177</td>\n",
              "      <td>201508</td>\n",
              "      <td>1</td>\n",
              "      <td>Fan Shop</td>\n",
              "      <td>Camping &amp; Hiking</td>\n",
              "      <td>Diamondback Women's Serene Classic Comfort Bi</td>\n",
              "      <td>3648</td>\n",
              "      <td>Europe</td>\n",
              "      <td>Northern Europe</td>\n",
              "      <td>United Kingdom</td>\n",
              "      <td>Puerto Rico</td>\n",
              "      <td>Second Class</td>\n",
              "      <td>2</td>\n",
              "      <td>300</td>\n",
              "      <td>0.13</td>\n",
              "      <td>150</td>\n",
              "      <td>2015-08-17 17:53:00</td>\n",
              "      <td>2015-08-19</td>\n",
              "      <td>1</td>\n",
              "    </tr>\n",
              "    <tr>\n",
              "      <th>9580</th>\n",
              "      <td>43583</td>\n",
              "      <td>108840</td>\n",
              "      <td>201609</td>\n",
              "      <td>1</td>\n",
              "      <td>Apparel</td>\n",
              "      <td>Cleats</td>\n",
              "      <td>Perfect Fitness Perfect Rip Deck</td>\n",
              "      <td>1294</td>\n",
              "      <td>Pacific Asia</td>\n",
              "      <td>West Asia</td>\n",
              "      <td>Turkey</td>\n",
              "      <td>Puerto Rico</td>\n",
              "      <td>Standard Class</td>\n",
              "      <td>4</td>\n",
              "      <td>60</td>\n",
              "      <td>0.04</td>\n",
              "      <td>147</td>\n",
              "      <td>2016-09-28 04:42:00</td>\n",
              "      <td>2016-10-02</td>\n",
              "      <td>3</td>\n",
              "    </tr>\n",
              "  </tbody>\n",
              "</table>\n",
              "</div>\n",
              "    <div class=\"colab-df-buttons\">\n",
              "\n",
              "  <div class=\"colab-df-container\">\n",
              "    <button class=\"colab-df-convert\" onclick=\"convertToInteractive('df-8979e6eb-cd61-41bc-ac09-3c352ed50444')\"\n",
              "            title=\"Convert this dataframe to an interactive table.\"\n",
              "            style=\"display:none;\">\n",
              "\n",
              "  <svg xmlns=\"http://www.w3.org/2000/svg\" height=\"24px\" viewBox=\"0 -960 960 960\">\n",
              "    <path d=\"M120-120v-720h720v720H120Zm60-500h600v-160H180v160Zm220 220h160v-160H400v160Zm0 220h160v-160H400v160ZM180-400h160v-160H180v160Zm440 0h160v-160H620v160ZM180-180h160v-160H180v160Zm440 0h160v-160H620v160Z\"/>\n",
              "  </svg>\n",
              "    </button>\n",
              "\n",
              "  <style>\n",
              "    .colab-df-container {\n",
              "      display:flex;\n",
              "      gap: 12px;\n",
              "    }\n",
              "\n",
              "    .colab-df-convert {\n",
              "      background-color: #E8F0FE;\n",
              "      border: none;\n",
              "      border-radius: 50%;\n",
              "      cursor: pointer;\n",
              "      display: none;\n",
              "      fill: #1967D2;\n",
              "      height: 32px;\n",
              "      padding: 0 0 0 0;\n",
              "      width: 32px;\n",
              "    }\n",
              "\n",
              "    .colab-df-convert:hover {\n",
              "      background-color: #E2EBFA;\n",
              "      box-shadow: 0px 1px 2px rgba(60, 64, 67, 0.3), 0px 1px 3px 1px rgba(60, 64, 67, 0.15);\n",
              "      fill: #174EA6;\n",
              "    }\n",
              "\n",
              "    .colab-df-buttons div {\n",
              "      margin-bottom: 4px;\n",
              "    }\n",
              "\n",
              "    [theme=dark] .colab-df-convert {\n",
              "      background-color: #3B4455;\n",
              "      fill: #D2E3FC;\n",
              "    }\n",
              "\n",
              "    [theme=dark] .colab-df-convert:hover {\n",
              "      background-color: #434B5C;\n",
              "      box-shadow: 0px 1px 3px 1px rgba(0, 0, 0, 0.15);\n",
              "      filter: drop-shadow(0px 1px 2px rgba(0, 0, 0, 0.3));\n",
              "      fill: #FFFFFF;\n",
              "    }\n",
              "  </style>\n",
              "\n",
              "    <script>\n",
              "      const buttonEl =\n",
              "        document.querySelector('#df-8979e6eb-cd61-41bc-ac09-3c352ed50444 button.colab-df-convert');\n",
              "      buttonEl.style.display =\n",
              "        google.colab.kernel.accessAllowed ? 'block' : 'none';\n",
              "\n",
              "      async function convertToInteractive(key) {\n",
              "        const element = document.querySelector('#df-8979e6eb-cd61-41bc-ac09-3c352ed50444');\n",
              "        const dataTable =\n",
              "          await google.colab.kernel.invokeFunction('convertToInteractive',\n",
              "                                                    [key], {});\n",
              "        if (!dataTable) return;\n",
              "\n",
              "        const docLinkHtml = 'Like what you see? Visit the ' +\n",
              "          '<a target=\"_blank\" href=https://colab.research.google.com/notebooks/data_table.ipynb>data table notebook</a>'\n",
              "          + ' to learn more about interactive tables.';\n",
              "        element.innerHTML = '';\n",
              "        dataTable['output_type'] = 'display_data';\n",
              "        await google.colab.output.renderOutput(dataTable, element);\n",
              "        const docLink = document.createElement('div');\n",
              "        docLink.innerHTML = docLinkHtml;\n",
              "        element.appendChild(docLink);\n",
              "      }\n",
              "    </script>\n",
              "  </div>\n",
              "\n",
              "\n",
              "<div id=\"df-a1e5ed57-e6e7-4e13-a3b2-4210d3790474\">\n",
              "  <button class=\"colab-df-quickchart\" onclick=\"quickchart('df-a1e5ed57-e6e7-4e13-a3b2-4210d3790474')\"\n",
              "            title=\"Suggest charts\"\n",
              "            style=\"display:none;\">\n",
              "\n",
              "<svg xmlns=\"http://www.w3.org/2000/svg\" height=\"24px\"viewBox=\"0 0 24 24\"\n",
              "     width=\"24px\">\n",
              "    <g>\n",
              "        <path d=\"M19 3H5c-1.1 0-2 .9-2 2v14c0 1.1.9 2 2 2h14c1.1 0 2-.9 2-2V5c0-1.1-.9-2-2-2zM9 17H7v-7h2v7zm4 0h-2V7h2v10zm4 0h-2v-4h2v4z\"/>\n",
              "    </g>\n",
              "</svg>\n",
              "  </button>\n",
              "\n",
              "<style>\n",
              "  .colab-df-quickchart {\n",
              "      --bg-color: #E8F0FE;\n",
              "      --fill-color: #1967D2;\n",
              "      --hover-bg-color: #E2EBFA;\n",
              "      --hover-fill-color: #174EA6;\n",
              "      --disabled-fill-color: #AAA;\n",
              "      --disabled-bg-color: #DDD;\n",
              "  }\n",
              "\n",
              "  [theme=dark] .colab-df-quickchart {\n",
              "      --bg-color: #3B4455;\n",
              "      --fill-color: #D2E3FC;\n",
              "      --hover-bg-color: #434B5C;\n",
              "      --hover-fill-color: #FFFFFF;\n",
              "      --disabled-bg-color: #3B4455;\n",
              "      --disabled-fill-color: #666;\n",
              "  }\n",
              "\n",
              "  .colab-df-quickchart {\n",
              "    background-color: var(--bg-color);\n",
              "    border: none;\n",
              "    border-radius: 50%;\n",
              "    cursor: pointer;\n",
              "    display: none;\n",
              "    fill: var(--fill-color);\n",
              "    height: 32px;\n",
              "    padding: 0;\n",
              "    width: 32px;\n",
              "  }\n",
              "\n",
              "  .colab-df-quickchart:hover {\n",
              "    background-color: var(--hover-bg-color);\n",
              "    box-shadow: 0 1px 2px rgba(60, 64, 67, 0.3), 0 1px 3px 1px rgba(60, 64, 67, 0.15);\n",
              "    fill: var(--button-hover-fill-color);\n",
              "  }\n",
              "\n",
              "  .colab-df-quickchart-complete:disabled,\n",
              "  .colab-df-quickchart-complete:disabled:hover {\n",
              "    background-color: var(--disabled-bg-color);\n",
              "    fill: var(--disabled-fill-color);\n",
              "    box-shadow: none;\n",
              "  }\n",
              "\n",
              "  .colab-df-spinner {\n",
              "    border: 2px solid var(--fill-color);\n",
              "    border-color: transparent;\n",
              "    border-bottom-color: var(--fill-color);\n",
              "    animation:\n",
              "      spin 1s steps(1) infinite;\n",
              "  }\n",
              "\n",
              "  @keyframes spin {\n",
              "    0% {\n",
              "      border-color: transparent;\n",
              "      border-bottom-color: var(--fill-color);\n",
              "      border-left-color: var(--fill-color);\n",
              "    }\n",
              "    20% {\n",
              "      border-color: transparent;\n",
              "      border-left-color: var(--fill-color);\n",
              "      border-top-color: var(--fill-color);\n",
              "    }\n",
              "    30% {\n",
              "      border-color: transparent;\n",
              "      border-left-color: var(--fill-color);\n",
              "      border-top-color: var(--fill-color);\n",
              "      border-right-color: var(--fill-color);\n",
              "    }\n",
              "    40% {\n",
              "      border-color: transparent;\n",
              "      border-right-color: var(--fill-color);\n",
              "      border-top-color: var(--fill-color);\n",
              "    }\n",
              "    60% {\n",
              "      border-color: transparent;\n",
              "      border-right-color: var(--fill-color);\n",
              "    }\n",
              "    80% {\n",
              "      border-color: transparent;\n",
              "      border-right-color: var(--fill-color);\n",
              "      border-bottom-color: var(--fill-color);\n",
              "    }\n",
              "    90% {\n",
              "      border-color: transparent;\n",
              "      border-bottom-color: var(--fill-color);\n",
              "    }\n",
              "  }\n",
              "</style>\n",
              "\n",
              "  <script>\n",
              "    async function quickchart(key) {\n",
              "      const quickchartButtonEl =\n",
              "        document.querySelector('#' + key + ' button');\n",
              "      quickchartButtonEl.disabled = true;  // To prevent multiple clicks.\n",
              "      quickchartButtonEl.classList.add('colab-df-spinner');\n",
              "      try {\n",
              "        const charts = await google.colab.kernel.invokeFunction(\n",
              "            'suggestCharts', [key], {});\n",
              "      } catch (error) {\n",
              "        console.error('Error during call to suggestCharts:', error);\n",
              "      }\n",
              "      quickchartButtonEl.classList.remove('colab-df-spinner');\n",
              "      quickchartButtonEl.classList.add('colab-df-quickchart-complete');\n",
              "    }\n",
              "    (() => {\n",
              "      let quickchartButtonEl =\n",
              "        document.querySelector('#df-a1e5ed57-e6e7-4e13-a3b2-4210d3790474 button');\n",
              "      quickchartButtonEl.style.display =\n",
              "        google.colab.kernel.accessAllowed ? 'block' : 'none';\n",
              "    })();\n",
              "  </script>\n",
              "</div>\n",
              "\n",
              "    </div>\n",
              "  </div>\n"
            ],
            "application/vnd.google.colaboratory.intrinsic+json": {
              "type": "dataframe",
              "summary": "{\n  \"name\": \"df_orders\",\n  \"rows\": 5,\n  \"fields\": [\n    {\n      \"column\": \"Order ID\",\n      \"properties\": {\n        \"dtype\": \"number\",\n        \"std\": 17190,\n        \"min\": 7725,\n        \"max\": 47278,\n        \"num_unique_values\": 5,\n        \"samples\": [\n          31241,\n          43583,\n          7725\n        ],\n        \"semantic_type\": \"\",\n        \"description\": \"\"\n      }\n    },\n    {\n      \"column\": \"Order Item ID\",\n      \"properties\": {\n        \"dtype\": \"number\",\n        \"std\": 42952,\n        \"min\": 19311,\n        \"max\": 118200,\n        \"num_unique_values\": 5,\n        \"samples\": [\n          78084,\n          108840,\n          19311\n        ],\n        \"semantic_type\": \"\",\n        \"description\": \"\"\n      }\n    },\n    {\n      \"column\": \"Order YearMonth\",\n      \"properties\": {\n        \"dtype\": \"number\",\n        \"std\": 55,\n        \"min\": 201504,\n        \"max\": 201611,\n        \"num_unique_values\": 5,\n        \"samples\": [\n          201604,\n          201609,\n          201504\n        ],\n        \"semantic_type\": \"\",\n        \"description\": \"\"\n      }\n    },\n    {\n      \"column\": \"Order Quantity\",\n      \"properties\": {\n        \"dtype\": \"number\",\n        \"std\": 1,\n        \"min\": 1,\n        \"max\": 4,\n        \"num_unique_values\": 3,\n        \"samples\": [\n          4,\n          1,\n          3\n        ],\n        \"semantic_type\": \"\",\n        \"description\": \"\"\n      }\n    },\n    {\n      \"column\": \"Product Department\",\n      \"properties\": {\n        \"dtype\": \"string\",\n        \"num_unique_values\": 3,\n        \"samples\": [\n          \"Golf\",\n          \"Apparel\",\n          \"Fan Shop\"\n        ],\n        \"semantic_type\": \"\",\n        \"description\": \"\"\n      }\n    },\n    {\n      \"column\": \"Product Category\",\n      \"properties\": {\n        \"dtype\": \"string\",\n        \"num_unique_values\": 4,\n        \"samples\": [\n          \"Shop By Sport\",\n          \"Camping & Hiking\",\n          \"Women's Apparel\"\n        ],\n        \"semantic_type\": \"\",\n        \"description\": \"\"\n      }\n    },\n    {\n      \"column\": \"Product Name\",\n      \"properties\": {\n        \"dtype\": \"string\",\n        \"num_unique_values\": 4,\n        \"samples\": [\n          \"Under Armour Girls' Toddler Spine Surge Runni\",\n          \"Diamondback Women's Serene Classic Comfort Bi\",\n          \"Nike Men's Dri-FIT Victory Golf Polo\"\n        ],\n        \"semantic_type\": \"\",\n        \"description\": \"\"\n      }\n    },\n    {\n      \"column\": \"Customer ID\",\n      \"properties\": {\n        \"dtype\": \"number\",\n        \"std\": 3816,\n        \"min\": 1294,\n        \"max\": 11388,\n        \"num_unique_values\": 5,\n        \"samples\": [\n          11388,\n          1294,\n          7223\n        ],\n        \"semantic_type\": \"\",\n        \"description\": \"\"\n      }\n    },\n    {\n      \"column\": \"Customer Market\",\n      \"properties\": {\n        \"dtype\": \"string\",\n        \"num_unique_values\": 4,\n        \"samples\": [\n          \"Pacific Asia\",\n          \"Europe\",\n          \"North America\"\n        ],\n        \"semantic_type\": \"\",\n        \"description\": \"\"\n      }\n    },\n    {\n      \"column\": \"Customer Region\",\n      \"properties\": {\n        \"dtype\": \"string\",\n        \"num_unique_values\": 5,\n        \"samples\": [\n          \"Oceania\",\n          \"West Asia\",\n          \"South America\"\n        ],\n        \"semantic_type\": \"\",\n        \"description\": \"\"\n      }\n    },\n    {\n      \"column\": \"Customer Country\",\n      \"properties\": {\n        \"dtype\": \"string\",\n        \"num_unique_values\": 5,\n        \"samples\": [\n          \"New zealand\",\n          \"Turkey\",\n          \"Venezuela\"\n        ],\n        \"semantic_type\": \"\",\n        \"description\": \"\"\n      }\n    },\n    {\n      \"column\": \"Warehouse Country\",\n      \"properties\": {\n        \"dtype\": \"category\",\n        \"num_unique_values\": 2,\n        \"samples\": [\n          \"USA\",\n          \"Puerto Rico\"\n        ],\n        \"semantic_type\": \"\",\n        \"description\": \"\"\n      }\n    },\n    {\n      \"column\": \"Shipment Mode\",\n      \"properties\": {\n        \"dtype\": \"category\",\n        \"num_unique_values\": 2,\n        \"samples\": [\n          \"Standard Class\",\n          \"Second Class\"\n        ],\n        \"semantic_type\": \"\",\n        \"description\": \"\"\n      }\n    },\n    {\n      \"column\": \"Shipment Days - Scheduled\",\n      \"properties\": {\n        \"dtype\": \"number\",\n        \"std\": 0,\n        \"min\": 2,\n        \"max\": 4,\n        \"num_unique_values\": 2,\n        \"samples\": [\n          4,\n          2\n        ],\n        \"semantic_type\": \"\",\n        \"description\": \"\"\n      }\n    },\n    {\n      \"column\": \"Gross Sales\",\n      \"properties\": {\n        \"dtype\": \"number\",\n        \"std\": 107,\n        \"min\": 40,\n        \"max\": 300,\n        \"num_unique_values\": 5,\n        \"samples\": [\n          40,\n          60\n        ],\n        \"semantic_type\": \"\",\n        \"description\": \"\"\n      }\n    },\n    {\n      \"column\": \"Discount %\",\n      \"properties\": {\n        \"dtype\": \"number\",\n        \"std\": 0.06379655163094632,\n        \"min\": 0.04,\n        \"max\": 0.2,\n        \"num_unique_values\": 5,\n        \"samples\": [\n          0.15,\n          0.04\n        ],\n        \"semantic_type\": \"\",\n        \"description\": \"\"\n      }\n    },\n    {\n      \"column\": \"Profit\",\n      \"properties\": {\n        \"dtype\": \"number\",\n        \"std\": 22,\n        \"min\": 97,\n        \"max\": 150,\n        \"num_unique_values\": 4,\n        \"samples\": [\n          97,\n          150\n        ],\n        \"semantic_type\": \"\",\n        \"description\": \"\"\n      }\n    },\n    {\n      \"column\": \"Order Datetime\",\n      \"properties\": {\n        \"dtype\": \"date\",\n        \"min\": \"2015-04-23 18:03:00\",\n        \"max\": \"2016-11-21 03:14:00\",\n        \"num_unique_values\": 5,\n        \"samples\": [\n          \"2016-04-01 00:45:00\",\n          \"2016-09-28 04:42:00\"\n        ],\n        \"semantic_type\": \"\",\n        \"description\": \"\"\n      }\n    },\n    {\n      \"column\": \"Shipment Datetime\",\n      \"properties\": {\n        \"dtype\": \"date\",\n        \"min\": \"2015-04-29 00:00:00\",\n        \"max\": \"2016-11-25 00:00:00\",\n        \"num_unique_values\": 5,\n        \"samples\": [\n          \"2016-03-14 00:00:00\",\n          \"2016-10-02 00:00:00\"\n        ],\n        \"semantic_type\": \"\",\n        \"description\": \"\"\n      }\n    },\n    {\n      \"column\": \"Order Processing Time\",\n      \"properties\": {\n        \"dtype\": \"number\",\n        \"std\": 9,\n        \"min\": -19,\n        \"max\": 5,\n        \"num_unique_values\": 4,\n        \"samples\": [\n          -19,\n          1\n        ],\n        \"semantic_type\": \"\",\n        \"description\": \"\"\n      }\n    }\n  ]\n}"
            }
          },
          "metadata": {},
          "execution_count": 30
        }
      ],
      "source": [
        "df_orders['Order Processing Time'] = (df_orders['Shipment Datetime'] - df_orders['Order Datetime']).dt.days\n",
        "df_orders['Order Processing Time'] = df_orders['Order Processing Time'].apply(lambda x: 0 if x == -1 else x)\n",
        "\n",
        "df_orders.sample(5)"
      ]
    },
    {
      "cell_type": "markdown",
      "metadata": {
        "id": "euTLZwEgUbKL"
      },
      "source": [
        "The presence of timestamps in the order of dates provides more accurate and detailed information about the time intervals between events. However, when calculating \"`Order Processing Time`\" using a timestamp, it can result in a negative value of 1 on same-day shipping as the order, because the shipping date does not have a timestamp, which is why the default timestamp of 00:00:00 is used.\n",
        "\n",
        "To address this issue, we implemented a `lambda` function to set a negative value of 1 to 0, ensuring the calculated duration is not negative and meaningful for analysis. This approach allows us to gain valuable insights into the efficiency of the shipping process and delivery time, taking into account the time-sensitive nature of the data."
      ]
    },
    {
      "cell_type": "markdown",
      "source": [
        "## Feature Metrics\n",
        "The feature metrics that planning to create in tableau which helps to further analyze inventory management, Shipement delay and many more."
      ],
      "metadata": {
        "id": "5ezj5FwLjSYD"
      }
    },
    {
      "cell_type": "markdown",
      "metadata": {
        "id": "Hn9rYugrm-WM"
      },
      "source": [
        "### Total Inventory Storage Cost"
      ]
    },
    {
      "cell_type": "markdown",
      "metadata": {
        "id": "YDeednbU55A6"
      },
      "source": [
        "Total Cost of Inventory is a significant financial metric in supply chain management that calculates the overall cost associated with holding and managing inventory.\n",
        "\n",
        "The formula for calculating Total Inventory Cost is: `Warehouse Inventory` times `Inventory Cost per Unit`."
      ]
    },
    {
      "cell_type": "markdown",
      "source": [
        "#### Storage Cost\n",
        "Storage_Cost = [Inventory Cost Per Unit]*[Warehouse Inventory]"
      ],
      "metadata": {
        "id": "hSwKZMWNj2wL"
      }
    },
    {
      "cell_type": "code",
      "source": [
        "df_inventory['Storage Cost']= df_inventory['Inventory Cost Per Unit']*df_inventory['Warehouse Inventory']"
      ],
      "metadata": {
        "id": "IQdKQHxPYLPV"
      },
      "execution_count": 37,
      "outputs": []
    },
    {
      "cell_type": "markdown",
      "metadata": {
        "id": "sVCg1S36sBdy"
      },
      "source": [
        "### Shipment Delay"
      ]
    },
    {
      "cell_type": "markdown",
      "metadata": {
        "id": "f_NaVtiQ6SOd"
      },
      "source": [
        "Shipment Delay is a metric that measures the time difference between the expected shipment date and the actual date that the order is delivered to the customer. This helps identify and measure the efficiency and reliability of the shipping processes.\n",
        "\n",
        "The calculation of Shipment Delay involves comparing the `Shipment Days - Actual` (actual date the order is shipped) with the `Shipment Days - Scheduled` (the expected or planned date of shipment)."
      ]
    },
    {
      "cell_type": "markdown",
      "source": [
        "#### Shipment Delay in Days\n",
        "Shipment Delay  = [Shipment Days - Actual] - ['Shipment Days - Scheduled']"
      ],
      "metadata": {
        "id": "Wa3ROJ6uj93g"
      }
    },
    {
      "cell_type": "markdown",
      "source": [
        "### Profit Margin"
      ],
      "metadata": {
        "id": "vYh_rJSlk3bV"
      }
    },
    {
      "cell_type": "markdown",
      "source": [
        "Profit Margin helps to assessing the profitability of the supply chain operations. It provides insights into the effectiveness of cost control and pricing strategies, enabling organizations to make adjustments to enhance overall profitability."
      ],
      "metadata": {
        "id": "b3SmibnYk8or"
      }
    },
    {
      "cell_type": "markdown",
      "source": [
        "Profit Margin : Total Profit / Total Gross Sales *100"
      ],
      "metadata": {
        "id": "9qJJg2DklGiR"
      }
    },
    {
      "cell_type": "code",
      "source": [
        "df_orders['Profit Margin'] = 100*df_orders['Profit']/df_orders['Gross Sales']"
      ],
      "metadata": {
        "id": "d2nsCPahbf8M"
      },
      "execution_count": 42,
      "outputs": []
    },
    {
      "cell_type": "markdown",
      "source": [
        "### Inventory to Sales Delta"
      ],
      "metadata": {
        "id": "tXT4pXajlhEj"
      }
    },
    {
      "cell_type": "markdown",
      "source": [
        "This is metric which indicating how efficiently inventory is managed and whether there may be overstocking or understocking issues, allowing for more informed decisions to optimize inventory levels."
      ],
      "metadata": {
        "id": "SeXT1Zw_lpGL"
      }
    },
    {
      "cell_type": "markdown",
      "source": [
        "Inventory to Sales Delta = Total Warehouse Inventory - Total Order Quantity"
      ],
      "metadata": {
        "id": "7KpCavDOmdo5"
      }
    },
    {
      "cell_type": "markdown",
      "source": [
        "### Under or Overstock\n",
        "\n",
        "Under or Overstock helps to find which products are Overstock and which are understock.\n",
        "And it helps to the balance of inventory."
      ],
      "metadata": {
        "id": "lAEYNcPLlpN3"
      }
    },
    {
      "cell_type": "markdown",
      "source": [
        "Under or Overstock = Inventory to Sales Delta >0 THEN 'Overstock'\n",
        "ELSE 'Understock'"
      ],
      "metadata": {
        "id": "2AwoqVKslUqb"
      }
    },
    {
      "cell_type": "markdown",
      "metadata": {
        "id": "AS_tFP1ZfsQ8"
      },
      "source": [
        "# Data Exporting & Conclusion"
      ]
    },
    {
      "cell_type": "code",
      "execution_count": 43,
      "metadata": {
        "colab": {
          "base_uri": "https://localhost:8080/"
        },
        "id": "N9-2S0_YXRKl",
        "outputId": "2648553b-481d-4d4e-fa81-71e9ea03f674"
      },
      "outputs": [
        {
          "output_type": "stream",
          "name": "stdout",
          "text": [
            "<class 'pandas.core.frame.DataFrame'>\n",
            "RangeIndex: 30871 entries, 0 to 30870\n",
            "Data columns (total 21 columns):\n",
            " #   Column                     Non-Null Count  Dtype         \n",
            "---  ------                     --------------  -----         \n",
            " 0   Order ID                   30871 non-null  int64         \n",
            " 1   Order Item ID              30871 non-null  int64         \n",
            " 2   Order YearMonth            30871 non-null  int64         \n",
            " 3   Order Quantity             30871 non-null  int64         \n",
            " 4   Product Department         30871 non-null  object        \n",
            " 5   Product Category           30871 non-null  object        \n",
            " 6   Product Name               30871 non-null  object        \n",
            " 7   Customer ID                30871 non-null  int64         \n",
            " 8   Customer Market            30871 non-null  object        \n",
            " 9   Customer Region            30871 non-null  object        \n",
            " 10  Customer Country           30871 non-null  object        \n",
            " 11  Warehouse Country          30871 non-null  object        \n",
            " 12  Shipment Mode              30871 non-null  object        \n",
            " 13  Shipment Days - Scheduled  30871 non-null  int64         \n",
            " 14  Gross Sales                30871 non-null  int64         \n",
            " 15  Discount %                 30871 non-null  float64       \n",
            " 16  Profit                     30871 non-null  int64         \n",
            " 17  Order Datetime             30871 non-null  datetime64[ns]\n",
            " 18  Shipment Datetime          30871 non-null  datetime64[ns]\n",
            " 19  Order Processing Time      30871 non-null  int64         \n",
            " 20  Profit Margin              30871 non-null  float64       \n",
            "dtypes: datetime64[ns](2), float64(2), int64(9), object(8)\n",
            "memory usage: 4.9+ MB\n"
          ]
        }
      ],
      "source": [
        "# Final Check\n",
        "df_orders.info()"
      ]
    },
    {
      "cell_type": "code",
      "execution_count": 44,
      "metadata": {
        "colab": {
          "base_uri": "https://localhost:8080/"
        },
        "id": "7pdjD6f8jeoB",
        "outputId": "118e0340-4eeb-4c69-bbd9-2e8c3ebac138"
      },
      "outputs": [
        {
          "output_type": "stream",
          "name": "stdout",
          "text": [
            "<class 'pandas.core.frame.DataFrame'>\n",
            "RangeIndex: 4200 entries, 0 to 4199\n",
            "Data columns (total 5 columns):\n",
            " #   Column                   Non-Null Count  Dtype  \n",
            "---  ------                   --------------  -----  \n",
            " 0   Product Name             4200 non-null   object \n",
            " 1   Year Month               4200 non-null   int64  \n",
            " 2   Warehouse Inventory      4200 non-null   int64  \n",
            " 3   Inventory Cost Per Unit  4200 non-null   float64\n",
            " 4   Storage Cost             4200 non-null   float64\n",
            "dtypes: float64(2), int64(2), object(1)\n",
            "memory usage: 164.2+ KB\n"
          ]
        }
      ],
      "source": [
        "df_inventory.info()"
      ]
    },
    {
      "cell_type": "code",
      "source": [
        "df_fulfillment.info()"
      ],
      "metadata": {
        "colab": {
          "base_uri": "https://localhost:8080/"
        },
        "id": "374lXBTtlOhD",
        "outputId": "655ee2af-f27d-4fe0-b212-d934c26cefe8"
      },
      "execution_count": 45,
      "outputs": [
        {
          "output_type": "stream",
          "name": "stdout",
          "text": [
            "<class 'pandas.core.frame.DataFrame'>\n",
            "RangeIndex: 118 entries, 0 to 117\n",
            "Data columns (total 2 columns):\n",
            " #   Column                              Non-Null Count  Dtype  \n",
            "---  ------                              --------------  -----  \n",
            " 0   Product Name                        118 non-null    object \n",
            " 1   Warehouse Order Fulfillment (days)  118 non-null    float64\n",
            "dtypes: float64(1), object(1)\n",
            "memory usage: 2.0+ KB\n"
          ]
        }
      ]
    },
    {
      "cell_type": "markdown",
      "metadata": {
        "id": "v7hZMiP4gZff"
      },
      "source": [
        "## Exporting Cleaned Data"
      ]
    },
    {
      "cell_type": "markdown",
      "metadata": {
        "id": "tEW-ylTagwud"
      },
      "source": [
        "Save the cleaned and processed DataFrames to a csv file for further visualization and analysis in tableau."
      ]
    },
    {
      "cell_type": "code",
      "execution_count": 46,
      "metadata": {
        "id": "dQiTclOuhO3n"
      },
      "outputs": [],
      "source": [
        "# Export DataFrames to CSV\n",
        "df_orders.to_csv('orders_shipment_fin.csv', index=False)\n",
        "df_inventory.to_csv('inventory_fin.csv', index=False)\n",
        "df_fulfillment.to_csv('fulfillment_fin.csv', index=False)"
      ]
    },
    {
      "cell_type": "markdown",
      "metadata": {
        "id": "GeiUwOAxhs2N"
      },
      "source": [
        "## Conclusion"
      ]
    },
    {
      "cell_type": "markdown",
      "metadata": {
        "id": "dgcYSQsjhuvj"
      },
      "source": [
        "Through this analysis, we successfully explored and performed data cleaning on the `df_orders` and `df_inventory` DataFrames. Important metrics such as `Profit Margin`, `Inventory to Sales Delta`, `Storage Cost`, and `Shipment Delay` will be calculated in tableau to understand inventory performance and supply chain efficiency for the company.\n",
        "\n",
        "Additionally, we removed some anomalous data points that could impact the analysis results. The cleaned and processed data will be exported to a csv file for further analysis and visualization in Tableau.\n"
      ]
    },
    {
      "cell_type": "code",
      "source": [],
      "metadata": {
        "id": "ujoJiD3I6-yH"
      },
      "execution_count": null,
      "outputs": []
    }
  ],
  "metadata": {
    "colab": {
      "provenance": []
    },
    "kernelspec": {
      "display_name": "Python 3",
      "name": "python3"
    },
    "language_info": {
      "name": "python"
    }
  },
  "nbformat": 4,
  "nbformat_minor": 0
}